{
 "cells": [
  {
   "cell_type": "code",
   "execution_count": 1,
   "metadata": {
    "collapsed": true
   },
   "outputs": [],
   "source": [
    "class ComputeResourceInformation:\n",
    "        \n",
    "    def __init__(self, processor=\"\", memory=\"\", disk=\"\", operating_system=\"\", kernel=\"\", compiler=\"\", file_system=\"\", system_layer=\"\", motherboard=\"\", chipset=\"\", graphics=\"\", network_card=\"\", monitor=\"\"):\n",
    "        self.processor = processor\n",
    "        self.memory = memory\n",
    "        self.disk = disk\n",
    "        self.operating_system = operating_system\n",
    "        self.kernel = kernel\n",
    "        self.compiler = compiler\n",
    "        self.file_system = file_system\n",
    "        self.system_layer = system_layer\n",
    "        self.motherboard = motherboard\n",
    "        self.chipset = chipset\n",
    "        self.graphics = graphics\n",
    "        self.network_card = network_card\n",
    "        self.monitor = monitor\n",
    "        \n",
    "    def as_map(self):\n",
    "        map_repr = {}\n",
    "        \n",
    "        map_repr['Processor'] = self.processor\n",
    "        map_repr['Memory'] = self.memory\n",
    "        map_repr['Disk'] = self.disk\n",
    "        map_repr['OS'] = self.operating_system\n",
    "        map_repr['Kernel'] = self.kernel\n",
    "        map_repr['Compiler'] = self.compiler\n",
    "        map_repr['File System'] = self.file_system\n",
    "        map_repr['System Layer'] = self.system_layer\n",
    "        map_repr['Motherboard'] = self.motherboard\n",
    "        map_repr['Chipset'] = self.chipset\n",
    "        map_repr['Graphics'] = self.graphics\n",
    "        map_repr['Network'] = self.network_card\n",
    "        map_repr['Monitor'] = self.monitor\n",
    "        \n",
    "        return map_repr\n",
    "    \n",
    "    def __str__(self):\n",
    "        return str( self.as_map() )"
   ]
  },
  {
   "cell_type": "code",
   "execution_count": 2,
   "metadata": {
    "collapsed": true
   },
   "outputs": [],
   "source": [
    "class TestNotFound(Exception):\n",
    "    def __init__(self, value=\"Test Not Found\"):\n",
    "        self.value = value\n",
    "    def __str__(self):\n",
    "        return repr(self.value)"
   ]
  },
  {
   "cell_type": "code",
   "execution_count": 3,
   "metadata": {
    "collapsed": false
   },
   "outputs": [],
   "source": [
    "import csv\n",
    "\n",
    "class ComputeResourceTestResults:\n",
    "    \n",
    "    def __init__(self, file = None):\n",
    "        \n",
    "        self._results = {}\n",
    "        self._info = ComputeResourceInformation()\n",
    "        \n",
    "        if file is not None:\n",
    "            self.load_from_file(file)\n",
    "        \n",
    "    def update_resource_info(self, processor, memory, disk, operating_system, kernel, compiler, file_system, \n",
    "                             system_layer='', motherboard='', chipset='', graphics='', network_card=''):\n",
    "            self._info.processor = processor\n",
    "            self._info.memory = memory\n",
    "            self._info.disk = disk\n",
    "            self._info.operating_system = operating_system\n",
    "            self._info.kernel = kernel\n",
    "            self._info.compiler = compiler\n",
    "            self._info.file_system = file_system\n",
    "            self._info.system_layer = system_layer\n",
    "            self._info.motherboard = motherboard\n",
    "            self._info.chipset = chipset\n",
    "            self._info.graphics = graphics\n",
    "            self._info.network_card = network_card\n",
    "            \n",
    "    def add_test_results(self, test_name, test_results_values):\n",
    "        \n",
    "        if test_name not in self._results:\n",
    "            self._results[test_name] = test_results_values\n",
    "        else:\n",
    "            self._results[test_name].extend( test_results_values )\n",
    "    \n",
    "    def add_test_result(self, test_name, test_result_value):\n",
    "        \n",
    "        results = []\n",
    "        results.append(test_result_value)\n",
    "        \n",
    "        self.add_test_results(test_name, results)\n",
    "    \n",
    "    def get_test_results(self, test_name):\n",
    "        try:\n",
    "            return self._results[test_name]\n",
    "        except KeyError as e:\n",
    "            raise TestNotFound(\"Test Not Found\")\n",
    "    \n",
    "    def delete_test_results(self, test_name):\n",
    "        try:\n",
    "            del self._results[test_name]\n",
    "        except KeyError as e:\n",
    "            raise TestNotFound(\"Test Not Found\")\n",
    "            \n",
    "    def load_from_file(self, file):\n",
    "        \n",
    "        processor = ''\n",
    "        memory = ''\n",
    "        disk = ''\n",
    "        operating_system = ''\n",
    "        kernel = ''\n",
    "        compiler = ''\n",
    "        file_system = ''\n",
    "        system_layer = ''\n",
    "        motherboard = ''\n",
    "        chipset = ''\n",
    "        graphics = ''\n",
    "        network_card = ''\n",
    "        \n",
    "        with open(file, newline='') as csvfile:\n",
    "            \n",
    "            test_result_reader = csv.reader(csvfile, delimiter=',')\n",
    "             \n",
    "            for row in test_result_reader:\n",
    "                #print(row)\n",
    "                if len(row) >= 2  and row[0] != ' ':\n",
    "                    if row[0] == 'Processor':\n",
    "                        processor = row[1] # Processor decoded\n",
    "                    elif row[0] == 'Memory':\n",
    "                        memory = row[1]  # Memory decoded\n",
    "                    elif row[0] == 'Disk':\n",
    "                        disk = row[1]    # Disk decoded\n",
    "                    elif row[0] == 'OS':\n",
    "                        operating_system = row[1]  ## OS decoded\n",
    "                    elif row[0] == 'Kernel':\n",
    "                        kernel = row[1]  # Kernel decoded\n",
    "                    elif row[0] == 'Compiler':\n",
    "                        compiler = row[1] # Compiler decoded\n",
    "                    elif row[0] == 'File-System':\n",
    "                        file_system = row[1] # File System decoded\n",
    "                    elif row[0] == 'System Layer':\n",
    "                        system_layer = row[1] # System layer decoded\n",
    "                    elif row[0] == 'Motherboard':\n",
    "                        motherboard = row[1] # Mother board decoded\n",
    "                    elif row[0] == 'Chipset':\n",
    "                        chipset = row[1]  # Chipset decoded\n",
    "                    elif row[0] == 'Graphics':\n",
    "                        graphics = row[1]  # Graphic card decoded\n",
    "                    elif row[0] == 'Network':\n",
    "                        network_card = row[1]  # Network card decoded\n",
    "                    elif row[0] == 'Screen Resolution' or row[0] == 'Monitor':\n",
    "                        pass\n",
    "                    else:\n",
    "                        # Fill test results\n",
    "                        \n",
    "                        self.add_test_results(row[0], [float(x) for x in row[1:]] ) \n",
    "        \n",
    "        self.update_resource_info(processor, memory, disk, operating_system, kernel, compiler, file_system, \n",
    "                                  system_layer, motherboard, chipset, graphics, network_card)\n",
    "                "
   ]
  },
  {
   "cell_type": "code",
   "execution_count": 4,
   "metadata": {
    "collapsed": true
   },
   "outputs": [],
   "source": [
    "aws_m1large_variable = ComputeResourceTestResults('./benchmarks/aws/m1large-aws-variable-ubuntu/merge-2092.csv')\n",
    "aws_m4xlarge_variable = ComputeResourceTestResults('./benchmarks/aws/m44xlarge-aws-variable-ubuntu/merge-7274.csv')\n",
    "aws_m4large_magnetic = ComputeResourceTestResults('./benchmarks/aws/m4large-aws-magnetic-ubuntu/merge-7288.csv')\n",
    "aws_m4large_sdd = ComputeResourceTestResults('./benchmarks/aws/m4large-aws-sdd-ubuntu/merge-6914.csv')\n",
    "aws_t2medium_magnetic = ComputeResourceTestResults('./benchmarks/aws/t2medium-aws-magnetic-ubuntu/merge-9347.csv')\n",
    "aws_t2medium_variable = ComputeResourceTestResults('./benchmarks/aws/t2medium-aws-variable-ubuntu/merge-9691.csv')\n",
    "aws_t2small_magnetic = ComputeResourceTestResults('./benchmarks/aws/t2small-aws-magnetic-ubuntu/merge-8438.csv')"
   ]
  },
  {
   "cell_type": "code",
   "execution_count": 18,
   "metadata": {
    "collapsed": false
   },
   "outputs": [],
   "source": [
    "cecad_2xlarge_gp = ComputeResourceTestResults('./benchmarks/cecad/2xlarge-gp-ubuntu/merge-5274.csv')\n",
    "cecad_2xlarge_hpc = ComputeResourceTestResults('./benchmarks/cecad/2xlarge-hpc-ubuntu/merge-4929.csv')\n",
    "cecad_3xlarge_gp = ComputeResourceTestResults('./benchmarks/cecad/3xlarge-gp-ubuntu/merge-6495.csv')\n",
    "cecad_3xlarge_hpc = ComputeResourceTestResults('./benchmarks/cecad/3xlarge-hpc-ubuntu/merge-6359.csv')\n",
    "cecad_4xlarge_hpc = ComputeResourceTestResults('./benchmarks/cecad/4xlarge-hpc-ubuntu/merge-7671.csv')\n",
    "cecad_5xlarge_hpc = ComputeResourceTestResults('./benchmarks/cecad/5xlarge-hpc-ubuntu/merge-5104.csv')\n",
    "cecad_6xlarge_hpc = ComputeResourceTestResults('./benchmarks/cecad/6xlarge-hpc-ubuntu/merge-4492.csv')\n",
    "cecad_7xlarge_hpc = ComputeResourceTestResults('./benchmarks/cecad/7xlarge-hpc-ubuntu/merge-1826.csv')\n",
    "cecad_8xlarge_hpc = ComputeResourceTestResults('./benchmarks/cecad/8xlarge-hpc-ubuntu/merge-3615.csv')\n",
    "cecad_dl1606g = ComputeResourceTestResults('./benchmarks/cecad/dl1606g-ubuntu/merge-6157.csv')\n",
    "cecad_large_gp = ComputeResourceTestResults('./benchmarks/cecad/large-gp-ubuntu/merge-9893.csv')\n",
    "cecad_large_hpc = ComputeResourceTestResults('./benchmarks/cecad/large-hpc-ubuntu/merge-7675.csv')\n",
    "cecad_large_nova = ComputeResourceTestResults('./benchmarks/cecad/large-ubuntu/merge-9724.csv')\n",
    "cecad_medium_gp = ComputeResourceTestResults('./benchmarks/cecad/medium-gp-ubuntu/merge-5312.csv')\n",
    "cecad_medium_hpc = ComputeResourceTestResults('./benchmarks/cecad/medium-hpc-ubuntu/merge-8901.csv')\n",
    "cecad_medium_nova = ComputeResourceTestResults('./benchmarks/cecad/medium-ubuntu/merge-2260.csv')\n",
    "cecad_r610 = ComputeResourceTestResults('./benchmarks/cecad/r610-ubuntu/merge-8348.csv')\n",
    "cecad_r900 = ComputeResourceTestResults('./benchmarks/cecad/r900-debian/merge-4836.csv')\n",
    "cecad_small_gp = ComputeResourceTestResults('./benchmarks/cecad/small-gp-ubuntu/merge-3500.csv')\n",
    "cecad_small_hpc = ComputeResourceTestResults('./benchmarks/cecad/small-hpc-ubuntu/merge-1569.csv')\n",
    "cecad_small_test = ComputeResourceTestResults('./benchmarks/cecad/small-test-ubuntu/merge-1472.csv')\n",
    "cecad_small_nova = ComputeResourceTestResults('./benchmarks/cecad/small-ubuntu/merge-4467.csv')\n",
    "cecad_xlarge_gp = ComputeResourceTestResults('./benchmarks/cecad/xlarge-gp-ubuntu/merge-1562.csv')\n",
    "cecad_large_hpc = ComputeResourceTestResults('./benchmarks/cecad/xlarge-hpc-ubuntu/merge-3341.csv')\n",
    "cecad_xsmall_gp = ComputeResourceTestResults('./benchmarks/cecad/xsmall-gp-ubuntu/merge-3733.csv')\n",
    "cecad_xsmall_hpc = ComputeResourceTestResults('./benchmarks/cecad/xsmall-hpc-ubuntu/merge-2556.csv')\n",
    "cecad_xsmall_nova = ComputeResourceTestResults('./benchmarks/cecad/xsmall-ubuntu/merge-1877.csv')"
   ]
  },
  {
   "cell_type": "code",
   "execution_count": 19,
   "metadata": {
    "collapsed": false
   },
   "outputs": [
    {
     "name": "stdout",
     "output_type": "stream",
     "text": [
      "{'Disk': '158GB', 'File System': 'ext4', 'Memory': '8192MB', 'Processor': 'Intel Xeon E5-2676 v3 @ 2.39GHz (2 Cores)', 'Network': 'Intel 82599 Virtual Function', 'Graphics': 'Cirrus Logic GD 5446', 'Monitor': '', 'Chipset': 'Intel 440FX- 82441FX PMC', 'Compiler': 'GCC 4.8.4', 'Kernel': '3.13.0-48-generic (x86_64)', 'OS': 'Ubuntu 14.04', 'System Layer': 'Xen HVM domU 4.2.amazon', 'Motherboard': 'Xen HVM domU'}\n"
     ]
    }
   ],
   "source": [
    "print(aws_m4large_sdd._info )"
   ]
  },
  {
   "cell_type": "code",
   "execution_count": 20,
   "metadata": {
    "collapsed": false
   },
   "outputs": [],
   "source": [
    "class TestInformation:\n",
    "    \n",
    "    CPU_TEST = 0\n",
    "    MEMORY_TEST = 1\n",
    "    DISK_TEST = 2\n",
    "    \n",
    "    categories = (\"CPU\",\"MEMORY\",\"DISK\")\n",
    "    \n",
    "    def __init__(self, test_name, units, category = MEMORY_TEST, more_is_better=True):\n",
    "        self.test_name = test_name\n",
    "        self.units = units\n",
    "        self.category = category\n",
    "        self.more_is_better = more_is_better\n",
    "    \n",
    "    def as_map(self):\n",
    "        map_repr = {}\n",
    "        \n",
    "        map_repr['Test Name'] = self.test_name\n",
    "        map_repr['Units'] = self.units\n",
    "        map_repr['Category'] = self.categories[self.category]\n",
    "        map_repr['More Is Better'] = self.more_is_better\n",
    "        \n",
    "        return map_repr\n",
    "    \n",
    "    def __eq__(self,other):\n",
    "        return self.test_name == other.test_name and self.units == other.units\n",
    "    \n",
    "    def __str__(self):\n",
    "        return str( self.as_map() )"
   ]
  },
  {
   "cell_type": "code",
   "execution_count": 21,
   "metadata": {
    "collapsed": false
   },
   "outputs": [
    {
     "data": {
      "text/plain": [
       "{'Category': 'CPU',\n",
       " 'More Is Better': True,\n",
       " 'Test Name': 'SQLite',\n",
       " 'Units': 'MB/s'}"
      ]
     },
     "execution_count": 21,
     "metadata": {},
     "output_type": "execute_result"
    }
   ],
   "source": [
    "test_info = TestInformation(\"SQLite\", \"MB/s\", TestInformation.CPU_TEST, True)\n",
    "test_info.as_map()"
   ]
  },
  {
   "cell_type": "code",
   "execution_count": 231,
   "metadata": {
    "collapsed": true
   },
   "outputs": [],
   "source": [
    "class TestSuite:\n",
    "    \n",
    "    def __init__(self, file = None):\n",
    "        \n",
    "        self._tests = {}\n",
    "        \n",
    "        if file is not None:\n",
    "            self.load_from_file(file)\n",
    "    \n",
    "    def add_test(self, test_name, units, category=TestInformation.MEMORY_TEST, more_is_better=True ):\n",
    "        test_info = TestInformation(test_name, units, category, more_is_better)\n",
    "        self._tests[test_info.test_name] = test_info\n",
    "    \n",
    "    def load_from_file(self, file ):\n",
    "        \n",
    "        with open(file, newline='') as csvfile:\n",
    "            \n",
    "            test_result_reader = csv.reader(csvfile, delimiter=',')\n",
    "             \n",
    "            for row in test_result_reader:\n",
    "                \n",
    "                test_name = row[0]\n",
    "                units = row[1]\n",
    "                category = int(row[2])\n",
    "                more_is_better = False\n",
    "                \n",
    "                if( row[3] == \"True\" ):\n",
    "                    more_is_better = True\n",
    "                \n",
    "                self.add_test(test_name, units, category, more_is_better)\n",
    "    \n",
    "    def get_test_info(self, test_name ):\n",
    "        return self._tests[test_name]"
   ]
  },
  {
   "cell_type": "code",
   "execution_count": 232,
   "metadata": {
    "collapsed": false
   },
   "outputs": [
    {
     "name": "stdout",
     "output_type": "stream",
     "text": [
      "{'Test Name': '7-Zip Compression - Compress Speed Test', 'More Is Better': True, 'Category': 'CPU', 'Units': 'MIPS'}\n"
     ]
    }
   ],
   "source": [
    "test_suite = TestSuite(\"./benchmarks/tests.csv\")\n",
    "print( test_suite._tests['7-Zip Compression - Compress Speed Test'] )"
   ]
  },
  {
   "cell_type": "code",
   "execution_count": 233,
   "metadata": {
    "collapsed": false
   },
   "outputs": [],
   "source": [
    "import scipy as sp\n",
    "from sklearn.cluster import KMeans\n",
    "\n",
    "class ComputeResourceTestTournament:\n",
    "    \n",
    "    POINTS_PER_WIN = 3\n",
    "    POINTS_PER_TIE = 1\n",
    "    POINTS_PER_LOSE = 0\n",
    "    \n",
    "    def __init__(self, test_name, more_is_better=True):\n",
    "        self._test_name = test_name\n",
    "        self._more_is_better = more_is_better\n",
    "        self._players = {}\n",
    "        self._km = None\n",
    "        self._cluster_results = {}\n",
    "        self._tournament = {}\n",
    "        self._results = {}\n",
    "    \n",
    "    def add_player(self, player_name, player):\n",
    "        try:\n",
    "            test_result = player.get_test_results( self._test_name )\n",
    "            self._players[ player_name ] = test_result[0]\n",
    "        except TestNotFound as e:\n",
    "            self._players[ player_name ] = sp.NAN\n",
    "            \n",
    "    def clusterize_results( self, number_clusters=10, init_mode='random', number_init=10, max_iterations=300 ):\n",
    "        \n",
    "        self._km = KMeans(n_clusters=number_clusters, init=init_mode, n_init=number_init, max_iter=max_iterations, random_state=0)\n",
    "        \n",
    "        # Sort players by value\n",
    "        sorted_players = [ (k,v) for v,k in sorted([(v,k) for k,v in self._players.items() ]) ]\n",
    "        \n",
    "        try:\n",
    "            \n",
    "            # Create a 2-dimensional array for doing K-Means\n",
    "            results = [[w,w] for w in sorted(list(self._players.values()))]\n",
    "            results_as_np = sp.array(results)\n",
    "        \n",
    "            # Execute cluster algorithm\n",
    "            y_km = self._km.fit_predict( results_as_np ) \n",
    "        \n",
    "            # Create clustering results {(p_i,clusterid_i)}\n",
    "            for i,item in enumerate(y_km) :\n",
    "                self._cluster_results[ sorted_players[i][0] ] = y_km[i]\n",
    "        \n",
    "        except ValueError as e:  #Doesn't work if Nan values\n",
    "            \n",
    "            results = []\n",
    "            for r in sorted(list(self._players.values())):\n",
    "                if r is not sp.NAN:\n",
    "                    results.append( [r,r] )\n",
    "            \n",
    "            results_as_np = sp.array(results)\n",
    "                            \n",
    "            y_km = self._km.fit_predict( results_as_np ) # Call clustering without Nan\n",
    "            \n",
    "            # Create clustering results {(p_i,clusterid_i)}\n",
    "            \n",
    "            assign_index = 0\n",
    "            \n",
    "            for info in sorted_players:\n",
    "                player_name = info[0]\n",
    "                \n",
    "                if self._players[ player_name ] is not sp.NAN:\n",
    "                    self._cluster_results[ player_name ] = y_km[assign_index]  \n",
    "                    assign_index = assign_index + 1\n",
    "                else:\n",
    "                    self._cluster_results[ player_name ] = sp.NAN\n",
    "  \n",
    "    def play_tournament(self):\n",
    "        \n",
    "        for key1 in self._players:\n",
    "            for key2 in self._players:\n",
    "                \n",
    "                if key1 != key2:\n",
    "                    \n",
    "                    cluster_player_1 = self._cluster_results[ key1 ]\n",
    "                    cluster_player_2 = self._cluster_results[ key2 ]\n",
    "                    \n",
    "                    if cluster_player_1 is sp.NAN: #Player doesn't compete in tournamet. Automatically loses\n",
    "                        points = self.POINTS_PER_LOSE\n",
    "                    else:\n",
    "                        if cluster_player_2 is sp.NAN: #Player doesn't compete in tournamet. Automatically wins\n",
    "                            points = self.POINTS_PER_WIN\n",
    "                        else:\n",
    "                            \n",
    "                            points = self.POINTS_PER_TIE\n",
    "\n",
    "                            # Different cluster?\n",
    "                            if cluster_player_1 != cluster_player_2:\n",
    "\n",
    "                                if( self._km.cluster_centers_[cluster_player_1][0] > self._km.cluster_centers_[cluster_player_2][0] ):\n",
    "                                    if self._more_is_better:\n",
    "                                        points = self.POINTS_PER_WIN\n",
    "                                    else:\n",
    "                                        points = self.POINTS_PER_LOSE\n",
    "                                else:\n",
    "                                    if self._more_is_better:\n",
    "                                        points = self.POINTS_PER_LOSE\n",
    "                                    else:\n",
    "                                        points = self.POINTS_PER_WIN\n",
    "\n",
    "                    match_result = (key2, points)\n",
    "\n",
    "                    if( key1 not in self._tournament):\n",
    "                        self._tournament[key1] = []\n",
    "\n",
    "                    self._tournament[key1].append( match_result )\n",
    "            \n",
    "    def calculate_tournament_results(self ):\n",
    "        # results is a dictionary with the player as the key and a list [points,position] as the value\n",
    "    \n",
    "        # Calculate points and positions for every player\n",
    "        # First, calculate points\n",
    "    \n",
    "        for player in self._tournament:\n",
    "    \n",
    "            points = 0\n",
    "        \n",
    "            for (op,p) in self._tournament[player]:\n",
    "                points = points + p\n",
    "        \n",
    "            self._results[player] = [points,0]\n",
    "            \n",
    "        # Second, recalculate positions\n",
    "        \n",
    "        unsorted_cluster_centers = []\n",
    "        for centers in self._km.cluster_centers_:\n",
    "            unsorted_cluster_centers.append(centers[0])\n",
    "        \n",
    "        sorted_cluster_centers = sorted( unsorted_cluster_centers, reverse=(self._more_is_better) )\n",
    "        \n",
    "        for i,cc in enumerate(sorted_cluster_centers):\n",
    "            # Get cluster index of this value\n",
    "            index = unsorted_cluster_centers.index(cc)\n",
    "            \n",
    "            # Update positions\n",
    "            \n",
    "            for (k,v) in self._cluster_results.items():\n",
    "                if index == v:\n",
    "                    self._results[k][1] = i\n",
    "                if v is sp.NAN:\n",
    "                    self._results[k][1] = len( unsorted_cluster_centers ) +1\n",
    "\n",
    "    def get_points(self, player ):\n",
    "        return self._results[player][0]\n",
    "\n",
    "    def get_position(self, player):\n",
    "        return self._results[player][1]"
   ]
  },
  {
   "cell_type": "code",
   "execution_count": 220,
   "metadata": {
    "collapsed": false
   },
   "outputs": [
    {
     "data": {
      "text/plain": [
       "{'aws_m1large_variable': 71.18,\n",
       " 'aws_m4large_magnetic': 68.47,\n",
       " 'aws_m4large_sdd': 68.49,\n",
       " 'aws_m4xlarge_variable': 8.66,\n",
       " 'aws_t2medium_magnetic': 193.24,\n",
       " 'aws_t2medium_variable': 188.99,\n",
       " 'aws_t2small_magnetic': 389.23,\n",
       " 'cecad_2xlarge_gp': 10.38,\n",
       " 'cecad_2xlarge_hpc': 10.21,\n",
       " 'cecad_3xlarge_gp': 10.92,\n",
       " 'cecad_3xlarge_hpc': 10.23,\n",
       " 'cecad_4xlarge_hpc': 22.7,\n",
       " 'cecad_5xlarge_hpc': 11.55,\n",
       " 'cecad_6xlarge_hpc': 7.98,\n",
       " 'cecad_7xlarge_hpc': 7.27,\n",
       " 'cecad_8xlarge_hpc': 8.06,\n",
       " 'cecad_dl1606g': 19.3,\n",
       " 'cecad_large_gp': 25.5,\n",
       " 'cecad_large_hpc': 20.08,\n",
       " 'cecad_large_nova': 24.58,\n",
       " 'cecad_medium_gp': 47.3,\n",
       " 'cecad_medium_hpc': 90.77,\n",
       " 'cecad_medium_nova': 48.54,\n",
       " 'cecad_r610': 10.31,\n",
       " 'cecad_r900': nan,\n",
       " 'cecad_small_gp': 93.48,\n",
       " 'cecad_small_hpc': 181.27,\n",
       " 'cecad_small_nova': nan,\n",
       " 'cecad_small_test': 154.88,\n",
       " 'cecad_xlarge_gp': 14.13,\n",
       " 'cecad_xsmall_gp': 93.34,\n",
       " 'cecad_xsmall_hpc': 179.01,\n",
       " 'cecad_xsmall_nova': 94.12}"
      ]
     },
     "execution_count": 220,
     "metadata": {},
     "output_type": "execute_result"
    }
   ],
   "source": [
    "test = ComputeResourceTestTournament('Tachyon - Total Time',False)\n",
    "test.add_player( 'aws_m1large_variable', aws_m1large_variable )\n",
    "test.add_player( 'aws_m4xlarge_variable', aws_m4xlarge_variable )\n",
    "test.add_player( 'aws_m4large_magnetic', aws_m4large_magnetic )\n",
    "test.add_player( 'aws_m4large_sdd', aws_m4large_sdd )\n",
    "test.add_player( 'aws_t2medium_magnetic', aws_t2medium_magnetic )\n",
    "test.add_player( 'aws_t2medium_variable', aws_t2medium_variable )\n",
    "test.add_player( 'aws_t2small_magnetic', aws_t2small_magnetic )\n",
    "test.add_player( 'cecad_2xlarge_gp', cecad_2xlarge_gp )\n",
    "test.add_player( 'cecad_2xlarge_hpc', cecad_2xlarge_hpc )\n",
    "test.add_player( 'cecad_3xlarge_gp', cecad_3xlarge_gp )\n",
    "test.add_player( 'cecad_3xlarge_hpc', cecad_3xlarge_hpc )\n",
    "test.add_player( 'cecad_4xlarge_hpc', cecad_4xlarge_hpc )\n",
    "test.add_player( 'cecad_5xlarge_hpc', cecad_5xlarge_hpc )\n",
    "test.add_player( 'cecad_6xlarge_hpc', cecad_6xlarge_hpc )\n",
    "test.add_player( 'cecad_7xlarge_hpc', cecad_7xlarge_hpc )\n",
    "test.add_player( 'cecad_8xlarge_hpc', cecad_8xlarge_hpc )\n",
    "test.add_player( 'cecad_dl1606g', cecad_dl1606g )\n",
    "test.add_player( 'cecad_large_gp', cecad_large_gp )\n",
    "test.add_player( 'cecad_large_hpc', cecad_large_hpc )\n",
    "test.add_player( 'cecad_large_nova', cecad_large_nova )\n",
    "test.add_player( 'cecad_medium_gp', cecad_medium_gp )\n",
    "test.add_player( 'cecad_medium_hpc', cecad_medium_hpc )\n",
    "test.add_player( 'cecad_medium_nova', cecad_medium_nova )\n",
    "test.add_player( 'cecad_r610', cecad_r610 )\n",
    "test.add_player( 'cecad_r900', cecad_r900 )\n",
    "test.add_player( 'cecad_small_gp', cecad_small_gp )\n",
    "test.add_player( 'cecad_small_hpc', cecad_small_hpc )\n",
    "test.add_player( 'cecad_small_test', cecad_small_test )\n",
    "test.add_player( 'cecad_small_nova', cecad_small_nova )\n",
    "test.add_player( 'cecad_xlarge_gp', cecad_xlarge_gp )\n",
    "test.add_player( 'cecad_xsmall_gp', cecad_xsmall_gp )\n",
    "test.add_player( 'cecad_xsmall_hpc', cecad_xsmall_hpc )\n",
    "test.add_player( 'cecad_xsmall_nova', cecad_xsmall_nova )\n",
    "test._players"
   ]
  },
  {
   "cell_type": "code",
   "execution_count": 221,
   "metadata": {
    "collapsed": false
   },
   "outputs": [],
   "source": [
    "test.clusterize_results( 10, 'random', 10, 300 )"
   ]
  },
  {
   "cell_type": "code",
   "execution_count": 222,
   "metadata": {
    "collapsed": false
   },
   "outputs": [
    {
     "data": {
      "text/plain": [
       "{'aws_m1large_variable': 8,\n",
       " 'aws_m4large_magnetic': 8,\n",
       " 'aws_m4large_sdd': 8,\n",
       " 'aws_m4xlarge_variable': 0,\n",
       " 'aws_t2medium_magnetic': 4,\n",
       " 'aws_t2medium_variable': 4,\n",
       " 'aws_t2small_magnetic': 1,\n",
       " 'cecad_2xlarge_gp': 0,\n",
       " 'cecad_2xlarge_hpc': 0,\n",
       " 'cecad_3xlarge_gp': 0,\n",
       " 'cecad_3xlarge_hpc': 0,\n",
       " 'cecad_4xlarge_hpc': 2,\n",
       " 'cecad_5xlarge_hpc': 3,\n",
       " 'cecad_6xlarge_hpc': 0,\n",
       " 'cecad_7xlarge_hpc': 0,\n",
       " 'cecad_8xlarge_hpc': 0,\n",
       " 'cecad_dl1606g': 7,\n",
       " 'cecad_large_gp': 2,\n",
       " 'cecad_large_hpc': 7,\n",
       " 'cecad_large_nova': 2,\n",
       " 'cecad_medium_gp': 6,\n",
       " 'cecad_medium_hpc': 9,\n",
       " 'cecad_medium_nova': 6,\n",
       " 'cecad_r610': 0,\n",
       " 'cecad_r900': nan,\n",
       " 'cecad_small_gp': 9,\n",
       " 'cecad_small_hpc': 4,\n",
       " 'cecad_small_nova': nan,\n",
       " 'cecad_small_test': 5,\n",
       " 'cecad_xlarge_gp': 3,\n",
       " 'cecad_xsmall_gp': 9,\n",
       " 'cecad_xsmall_hpc': 4,\n",
       " 'cecad_xsmall_nova': 9}"
      ]
     },
     "execution_count": 222,
     "metadata": {},
     "output_type": "execute_result"
    }
   ],
   "source": [
    "test._cluster_results"
   ]
  },
  {
   "cell_type": "code",
   "execution_count": 223,
   "metadata": {
    "collapsed": false
   },
   "outputs": [
    {
     "data": {
      "text/plain": [
       "array([[   9.33555556,    9.33555556],\n",
       "       [ 389.23      ,  389.23      ],\n",
       "       [  24.26      ,   24.26      ],\n",
       "       [  12.84      ,   12.84      ],\n",
       "       [ 185.6275    ,  185.6275    ],\n",
       "       [ 154.88      ,  154.88      ],\n",
       "       [  47.92      ,   47.92      ],\n",
       "       [  19.69      ,   19.69      ],\n",
       "       [  69.38      ,   69.38      ],\n",
       "       [  92.9275    ,   92.9275    ]])"
      ]
     },
     "execution_count": 223,
     "metadata": {},
     "output_type": "execute_result"
    }
   ],
   "source": [
    "test._km.cluster_centers_"
   ]
  },
  {
   "cell_type": "code",
   "execution_count": 224,
   "metadata": {
    "collapsed": false
   },
   "outputs": [],
   "source": [
    "test.play_tournament()"
   ]
  },
  {
   "cell_type": "code",
   "execution_count": 225,
   "metadata": {
    "collapsed": false
   },
   "outputs": [
    {
     "data": {
      "text/plain": [
       "[('cecad_small_gp', 3),\n",
       " ('cecad_xsmall_nova', 3),\n",
       " ('cecad_2xlarge_hpc', 0),\n",
       " ('cecad_3xlarge_hpc', 0),\n",
       " ('cecad_xsmall_hpc', 3),\n",
       " ('cecad_6xlarge_hpc', 0),\n",
       " ('aws_m4xlarge_variable', 0),\n",
       " ('cecad_medium_gp', 0),\n",
       " ('cecad_3xlarge_gp', 0),\n",
       " ('cecad_large_gp', 0),\n",
       " ('aws_t2medium_magnetic', 3),\n",
       " ('cecad_large_hpc', 0),\n",
       " ('cecad_4xlarge_hpc', 0),\n",
       " ('cecad_2xlarge_gp', 0),\n",
       " ('cecad_r610', 0),\n",
       " ('cecad_7xlarge_hpc', 0),\n",
       " ('cecad_medium_nova', 0),\n",
       " ('cecad_medium_hpc', 3),\n",
       " ('cecad_xlarge_gp', 0),\n",
       " ('cecad_small_test', 3),\n",
       " ('cecad_large_nova', 0),\n",
       " ('cecad_dl1606g', 0),\n",
       " ('aws_m4large_magnetic', 1),\n",
       " ('aws_t2medium_variable', 3),\n",
       " ('cecad_small_nova', 3),\n",
       " ('cecad_r900', 3),\n",
       " ('aws_t2small_magnetic', 3),\n",
       " ('cecad_5xlarge_hpc', 0),\n",
       " ('aws_m4large_sdd', 1),\n",
       " ('cecad_xsmall_gp', 3),\n",
       " ('cecad_small_hpc', 3),\n",
       " ('cecad_8xlarge_hpc', 0)]"
      ]
     },
     "execution_count": 225,
     "metadata": {},
     "output_type": "execute_result"
    }
   ],
   "source": [
    "test._tournament[\"aws_m1large_variable\"]"
   ]
  },
  {
   "cell_type": "code",
   "execution_count": 226,
   "metadata": {
    "collapsed": false
   },
   "outputs": [
    {
     "data": {
      "text/plain": [
       "dict_items([('cecad_medium_hpc', 9), ('cecad_small_gp', 9), ('cecad_xsmall_nova', 9), ('cecad_2xlarge_hpc', 0), ('cecad_3xlarge_hpc', 0), ('cecad_xsmall_hpc', 4), ('cecad_6xlarge_hpc', 0), ('aws_m1large_variable', 8), ('aws_t2medium_magnetic', 4), ('aws_m4xlarge_variable', 0), ('cecad_medium_gp', 6), ('cecad_3xlarge_gp', 0), ('cecad_large_gp', 2), ('cecad_small_test', 5), ('cecad_large_hpc', 7), ('cecad_4xlarge_hpc', 2), ('cecad_2xlarge_gp', 0), ('cecad_7xlarge_hpc', 0), ('cecad_medium_nova', 6), ('cecad_r610', 0), ('cecad_xlarge_gp', 3), ('cecad_large_nova', 2), ('cecad_dl1606g', 7), ('aws_m4large_magnetic', 8), ('aws_t2medium_variable', 4), ('cecad_small_nova', nan), ('cecad_r900', nan), ('aws_t2small_magnetic', 1), ('cecad_5xlarge_hpc', 3), ('aws_m4large_sdd', 8), ('cecad_xsmall_gp', 9), ('cecad_small_hpc', 4), ('cecad_8xlarge_hpc', 0)])"
      ]
     },
     "execution_count": 226,
     "metadata": {},
     "output_type": "execute_result"
    }
   ],
   "source": [
    "test._cluster_results.items()"
   ]
  },
  {
   "cell_type": "code",
   "execution_count": 227,
   "metadata": {
    "collapsed": false
   },
   "outputs": [
    {
     "data": {
      "text/plain": [
       "38"
      ]
     },
     "execution_count": 227,
     "metadata": {},
     "output_type": "execute_result"
    }
   ],
   "source": [
    "test.calculate_tournament_results()\n",
    "points = test.get_points(\"aws_m1large_variable\")\n",
    "points"
   ]
  },
  {
   "cell_type": "code",
   "execution_count": 228,
   "metadata": {
    "collapsed": false
   },
   "outputs": [
    {
     "data": {
      "text/plain": [
       "61"
      ]
     },
     "execution_count": 228,
     "metadata": {},
     "output_type": "execute_result"
    }
   ],
   "source": [
    "points = test.get_points(\"cecad_dl1606g\")\n",
    "points"
   ]
  },
  {
   "cell_type": "code",
   "execution_count": 229,
   "metadata": {
    "collapsed": false
   },
   "outputs": [
    {
     "data": {
      "text/plain": [
       "80"
      ]
     },
     "execution_count": 229,
     "metadata": {},
     "output_type": "execute_result"
    }
   ],
   "source": [
    "points = test.get_points(\"cecad_r610\")\n",
    "points"
   ]
  },
  {
   "cell_type": "code",
   "execution_count": 230,
   "metadata": {
    "collapsed": false
   },
   "outputs": [
    {
     "data": {
      "text/plain": [
       "{'aws_m1large_variable': [38, 5],\n",
       " 'aws_m4large_magnetic': [38, 5],\n",
       " 'aws_m4large_sdd': [38, 5],\n",
       " 'aws_m4xlarge_variable': [80, 0],\n",
       " 'aws_t2medium_magnetic': [12, 8],\n",
       " 'aws_t2medium_variable': [12, 8],\n",
       " 'aws_t2small_magnetic': [6, 9],\n",
       " 'cecad_2xlarge_gp': [80, 0],\n",
       " 'cecad_2xlarge_hpc': [80, 0],\n",
       " 'cecad_3xlarge_gp': [80, 0],\n",
       " 'cecad_3xlarge_hpc': [80, 0],\n",
       " 'cecad_4xlarge_hpc': [53, 3],\n",
       " 'cecad_5xlarge_hpc': [67, 1],\n",
       " 'cecad_6xlarge_hpc': [80, 0],\n",
       " 'cecad_7xlarge_hpc': [80, 0],\n",
       " 'cecad_8xlarge_hpc': [80, 0],\n",
       " 'cecad_dl1606g': [61, 2],\n",
       " 'cecad_large_gp': [53, 3],\n",
       " 'cecad_large_hpc': [61, 2],\n",
       " 'cecad_large_nova': [53, 3],\n",
       " 'cecad_medium_gp': [46, 4],\n",
       " 'cecad_medium_hpc': [27, 6],\n",
       " 'cecad_medium_nova': [46, 4],\n",
       " 'cecad_r610': [80, 0],\n",
       " 'cecad_r900': [0, 11],\n",
       " 'cecad_small_gp': [27, 6],\n",
       " 'cecad_small_hpc': [12, 8],\n",
       " 'cecad_small_nova': [0, 11],\n",
       " 'cecad_small_test': [21, 7],\n",
       " 'cecad_xlarge_gp': [67, 1],\n",
       " 'cecad_xsmall_gp': [27, 6],\n",
       " 'cecad_xsmall_hpc': [12, 8],\n",
       " 'cecad_xsmall_nova': [27, 6]}"
      ]
     },
     "execution_count": 230,
     "metadata": {},
     "output_type": "execute_result"
    }
   ],
   "source": [
    "test._results"
   ]
  },
  {
   "cell_type": "code",
   "execution_count": 205,
   "metadata": {
    "collapsed": false
   },
   "outputs": [
    {
     "data": {
      "text/plain": [
       "[('cecad_small_test', 544.39),\n",
       " ('cecad_xsmall_hpc', 1104.26),\n",
       " ('cecad_small_hpc', 1241.54),\n",
       " ('cecad_small_gp', 1491.12),\n",
       " ('cecad_xsmall_gp', 1529.08),\n",
       " ('cecad_medium_hpc', 1663.36),\n",
       " ('aws_m1large_variable', 1690.01),\n",
       " ('cecad_5xlarge_hpc', 1710.06),\n",
       " ('cecad_xlarge_gp', 1756.55),\n",
       " ('cecad_3xlarge_gp', 1934.58),\n",
       " ('cecad_2xlarge_gp', 2060.34),\n",
       " ('cecad_2xlarge_hpc', 2173.17),\n",
       " ('cecad_4xlarge_hpc', 2296.85),\n",
       " ('cecad_8xlarge_hpc', 2360.89),\n",
       " ('cecad_3xlarge_hpc', 2395.94),\n",
       " ('cecad_large_gp', 2406.96),\n",
       " ('cecad_7xlarge_hpc', 2459.69),\n",
       " ('cecad_6xlarge_hpc', 2573.65),\n",
       " ('cecad_large_hpc', 2799.15),\n",
       " ('cecad_xsmall_nova', 3237.65),\n",
       " ('cecad_small_nova', 3321.2),\n",
       " ('cecad_medium_gp', 3503.61),\n",
       " ('cecad_large_nova', 3863.2),\n",
       " ('aws_t2small_magnetic', 3905.83),\n",
       " ('cecad_medium_nova', 4139.85),\n",
       " ('aws_m4large_sdd', 4864.89),\n",
       " ('aws_m4large_magnetic', 5022.29),\n",
       " ('aws_t2medium_magnetic', 6315.54),\n",
       " ('cecad_dl1606g', 7205.38),\n",
       " ('cecad_r610', 8174.97),\n",
       " ('aws_m4xlarge_variable', 10792.74),\n",
       " ('aws_t2medium_variable', nan)]"
      ]
     },
     "execution_count": 205,
     "metadata": {},
     "output_type": "execute_result"
    }
   ],
   "source": [
    "sorted_players = [ (k,v) for v,k in sorted([(v,k) for k,v in test._players.items() ]) ]\n",
    "sorted_players"
   ]
  },
  {
   "cell_type": "code",
   "execution_count": 144,
   "metadata": {
    "collapsed": false
   },
   "outputs": [
    {
     "data": {
      "text/plain": [
       "array([  1811.48,   2742.36,   3130.86,   3784.74,   3787.94,   3790.1 ,\n",
       "         4317.39,   4366.38,   4529.83,   4884.07,   5419.52,   5530.85,\n",
       "         5944.23,   6017.76,   6117.3 ,   6130.25,   6130.31,   6343.94,\n",
       "         6350.59,   6400.35,   7748.59,   8430.88,   9901.69,  10181.49,\n",
       "        10225.84,  10862.81,  11144.29,  12142.59,  12681.31,  18732.27,\n",
       "        19448.22,  20845.24,  26801.54])"
      ]
     },
     "execution_count": 144,
     "metadata": {},
     "output_type": "execute_result"
    }
   ],
   "source": [
    "import scipy as sp\n",
    "test_results = sp.array( sorted(list(test._players.values()) ) ) \n",
    "test_results"
   ]
  },
  {
   "cell_type": "code",
   "execution_count": 145,
   "metadata": {
    "collapsed": false
   },
   "outputs": [],
   "source": [
    "import matplotlib.pyplot as plt\n",
    "#plt.scatter([w for w in range( len( stream_copy._players  ) ) ],stream_copy_results,s=10)\n",
    "plt.scatter(test_results, test_results,s=20)\n",
    "plt.title(test._test_name)\n",
    "plt.xlabel(\"MB/s\")\n",
    "plt.ylabel(\"MB/s\")\n",
    "plt.autoscale(tight=True)\n",
    "plt.grid(True, linestyle='-', color='0.75')\n",
    "plt.show()"
   ]
  },
  {
   "cell_type": "code",
   "execution_count": 146,
   "metadata": {
    "collapsed": false
   },
   "outputs": [],
   "source": [
    "from sklearn.cluster import KMeans\n",
    "km = KMeans(n_clusters=10, init='random', n_init=10, max_iter=300, random_state=0)"
   ]
  },
  {
   "cell_type": "code",
   "execution_count": 147,
   "metadata": {
    "collapsed": false
   },
   "outputs": [
    {
     "data": {
      "text/plain": [
       "[[1811.48, 1811.48],\n",
       " [2742.36, 2742.36],\n",
       " [3130.86, 3130.86],\n",
       " [3784.74, 3784.74],\n",
       " [3787.94, 3787.94],\n",
       " [3790.1, 3790.1],\n",
       " [4317.39, 4317.39],\n",
       " [4366.38, 4366.38],\n",
       " [4529.83, 4529.83],\n",
       " [4884.07, 4884.07],\n",
       " [5419.52, 5419.52],\n",
       " [5530.85, 5530.85],\n",
       " [5944.23, 5944.23],\n",
       " [6017.76, 6017.76],\n",
       " [6117.3, 6117.3],\n",
       " [6130.25, 6130.25],\n",
       " [6130.31, 6130.31],\n",
       " [6343.94, 6343.94],\n",
       " [6350.59, 6350.59],\n",
       " [6400.35, 6400.35],\n",
       " [7748.59, 7748.59],\n",
       " [8430.88, 8430.88],\n",
       " [9901.69, 9901.69],\n",
       " [10181.49, 10181.49],\n",
       " [10225.84, 10225.84],\n",
       " [10862.81, 10862.81],\n",
       " [11144.29, 11144.29],\n",
       " [12142.59, 12142.59],\n",
       " [12681.31, 12681.31],\n",
       " [18732.27, 18732.27],\n",
       " [19448.22, 19448.22],\n",
       " [20845.24, 20845.24],\n",
       " [26801.54, 26801.54]]"
      ]
     },
     "execution_count": 147,
     "metadata": {},
     "output_type": "execute_result"
    }
   ],
   "source": [
    "results = [[w,w] for w in sorted(list(test._players.values()))]\n",
    "results\n"
   ]
  },
  {
   "cell_type": "code",
   "execution_count": 148,
   "metadata": {
    "collapsed": false
   },
   "outputs": [
    {
     "data": {
      "text/plain": [
       "array([[  1811.48,   1811.48],\n",
       "       [  2742.36,   2742.36],\n",
       "       [  3130.86,   3130.86],\n",
       "       [  3784.74,   3784.74],\n",
       "       [  3787.94,   3787.94],\n",
       "       [  3790.1 ,   3790.1 ],\n",
       "       [  4317.39,   4317.39],\n",
       "       [  4366.38,   4366.38],\n",
       "       [  4529.83,   4529.83],\n",
       "       [  4884.07,   4884.07],\n",
       "       [  5419.52,   5419.52],\n",
       "       [  5530.85,   5530.85],\n",
       "       [  5944.23,   5944.23],\n",
       "       [  6017.76,   6017.76],\n",
       "       [  6117.3 ,   6117.3 ],\n",
       "       [  6130.25,   6130.25],\n",
       "       [  6130.31,   6130.31],\n",
       "       [  6343.94,   6343.94],\n",
       "       [  6350.59,   6350.59],\n",
       "       [  6400.35,   6400.35],\n",
       "       [  7748.59,   7748.59],\n",
       "       [  8430.88,   8430.88],\n",
       "       [  9901.69,   9901.69],\n",
       "       [ 10181.49,  10181.49],\n",
       "       [ 10225.84,  10225.84],\n",
       "       [ 10862.81,  10862.81],\n",
       "       [ 11144.29,  11144.29],\n",
       "       [ 12142.59,  12142.59],\n",
       "       [ 12681.31,  12681.31],\n",
       "       [ 18732.27,  18732.27],\n",
       "       [ 19448.22,  19448.22],\n",
       "       [ 20845.24,  20845.24],\n",
       "       [ 26801.54,  26801.54]])"
      ]
     },
     "execution_count": 148,
     "metadata": {},
     "output_type": "execute_result"
    }
   ],
   "source": [
    "data_to_cluster = sp.array(results)\n",
    "data_to_cluster\n"
   ]
  },
  {
   "cell_type": "code",
   "execution_count": 23,
   "metadata": {
    "collapsed": false
   },
   "outputs": [
    {
     "data": {
      "text/plain": [
       "array([0, 0, 0, 0, 0, 0, 0, 3, 3, 7, 7, 7, 2, 2, 2, 2, 2, 8, 8, 9, 9, 5, 5,\n",
       "       5, 5, 4, 6, 6, 1, 1], dtype=int32)"
      ]
     },
     "execution_count": 23,
     "metadata": {},
     "output_type": "execute_result"
    }
   ],
   "source": [
    "y_km = km.fit_predict(data_to_cluster)\n",
    "y_km"
   ]
  },
  {
   "cell_type": "code",
   "execution_count": 24,
   "metadata": {
    "collapsed": false
   },
   "outputs": [
    {
     "data": {
      "text/plain": [
       "array([0, 0, 0, 0, 0, 0, 0, 3, 3, 7, 7, 7, 2, 2, 2, 2, 2, 8, 8, 9, 9, 5, 5,\n",
       "       5, 5, 4, 6, 6, 1, 1], dtype=int32)"
      ]
     },
     "execution_count": 24,
     "metadata": {},
     "output_type": "execute_result"
    }
   ],
   "source": [
    "km.labels_"
   ]
  },
  {
   "cell_type": "code",
   "execution_count": 151,
   "metadata": {
    "collapsed": false
   },
   "outputs": [
    {
     "data": {
      "text/plain": [
       "array([[  20.81428571,   20.81428571],\n",
       "       [ 645.455     ,  645.455     ],\n",
       "       [ 141.272     ,  141.272     ],\n",
       "       [  36.12      ,   36.12      ],\n",
       "       [ 563.27      ,  563.27      ],\n",
       "       [ 512.6675    ,  512.6675    ],\n",
       "       [ 583.435     ,  583.435     ],\n",
       "       [  51.72      ,   51.72      ],\n",
       "       [ 187.055     ,  187.055     ],\n",
       "       [ 444.555     ,  444.555     ]])"
      ]
     },
     "execution_count": 151,
     "metadata": {},
     "output_type": "execute_result"
    }
   ],
   "source": [
    "km.cluster_centers_"
   ]
  },
  {
   "cell_type": "code",
   "execution_count": 26,
   "metadata": {
    "collapsed": false
   },
   "outputs": [
    {
     "data": {
      "text/plain": [
       "30"
      ]
     },
     "execution_count": 26,
     "metadata": {},
     "output_type": "execute_result"
    }
   ],
   "source": [
    "len(y_km)"
   ]
  },
  {
   "cell_type": "code",
   "execution_count": 57,
   "metadata": {
    "collapsed": false
   },
   "outputs": [
    {
     "data": {
      "text/plain": [
       "{'aws_m1large_variable': 3,\n",
       " 'aws_m4large_magnetic': 7,\n",
       " 'aws_m4large_sdd': 0,\n",
       " 'aws_m4xlarge_variable': 0,\n",
       " 'aws_t2medium_magnetic': 7,\n",
       " 'aws_t2medium_variable': 3,\n",
       " 'aws_t2small_magnetic': 7,\n",
       " 'cecad_2xlarge_gp': 2,\n",
       " 'cecad_2xlarge_hpc': 5,\n",
       " 'cecad_3xlarge_gp': 2,\n",
       " 'cecad_3xlarge_hpc': 6,\n",
       " 'cecad_4xlarge_hpc': 5,\n",
       " 'cecad_5xlarge_hpc': 6,\n",
       " 'cecad_6xlarge_hpc': 5,\n",
       " 'cecad_7xlarge_hpc': 9,\n",
       " 'cecad_8xlarge_hpc': 9,\n",
       " 'cecad_dl1606g': 4,\n",
       " 'cecad_large_gp': 2,\n",
       " 'cecad_large_hpc': 1,\n",
       " 'cecad_large_nova': 0,\n",
       " 'cecad_medium_gp': 8,\n",
       " 'cecad_medium_nova': 0,\n",
       " 'cecad_r610': 0,\n",
       " 'cecad_small_gp': 2,\n",
       " 'cecad_small_nova': 0,\n",
       " 'cecad_small_test': 5,\n",
       " 'cecad_xlarge_gp': 2,\n",
       " 'cecad_xsmall_gp': 8,\n",
       " 'cecad_xsmall_hpc': 1,\n",
       " 'cecad_xsmall_nova': 0}"
      ]
     },
     "execution_count": 57,
     "metadata": {},
     "output_type": "execute_result"
    }
   ],
   "source": [
    "clustering_results = {}\n",
    "for i,item in enumerate(y_km) :\n",
    "    clustering_results[ sorted_players[i][0] ] = y_km[i]\n",
    "clustering_results"
   ]
  },
  {
   "cell_type": "code",
   "execution_count": 28,
   "metadata": {
    "collapsed": false
   },
   "outputs": [
    {
     "data": {
      "text/plain": [
       "dict_keys(['aws_m4xlarge_variable', 'cecad_xsmall_hpc', 'cecad_5xlarge_hpc', 'cecad_2xlarge_hpc', 'cecad_dl1606g', 'cecad_medium_gp', 'cecad_7xlarge_hpc', 'cecad_xsmall_nova', 'aws_t2medium_variable', 'aws_t2medium_magnetic', 'cecad_large_hpc', 'cecad_small_gp', 'cecad_large_nova', 'cecad_6xlarge_hpc', 'cecad_8xlarge_hpc', 'cecad_3xlarge_hpc', 'cecad_small_test', 'cecad_2xlarge_gp', 'cecad_xlarge_gp', 'cecad_medium_nova', 'aws_m4large_magnetic', 'cecad_xsmall_gp', 'aws_m1large_variable', 'cecad_large_gp', 'cecad_3xlarge_gp', 'cecad_4xlarge_hpc', 'cecad_small_nova', 'aws_m4large_sdd', 'cecad_r610', 'aws_t2small_magnetic'])"
      ]
     },
     "execution_count": 28,
     "metadata": {},
     "output_type": "execute_result"
    }
   ],
   "source": [
    "test._players.keys()"
   ]
  },
  {
   "cell_type": "code",
   "execution_count": 237,
   "metadata": {
    "collapsed": false
   },
   "outputs": [],
   "source": [
    "class EquivalenceTournament:\n",
    "        \n",
    "    def __init__(self):\n",
    "        self._competitions = []\n",
    "        self._players = []\n",
    "    \n",
    "    def add_player(self, new_player):\n",
    "        self._players.append( new_player )\n",
    "    \n",
    "    def add_players(self, new_players ):\n",
    "        self._players.extend( new_players )\n",
    "    \n",
    "    def add_competition(self, competition):\n",
    "        self._competitions.append( competition )\n",
    "    \n",
    "    def add_competitions(self, competitions):\n",
    "        self._competitions.extend( competitions )\n",
    "    \n",
    "    def add_test_suite(self, file):\n",
    "        test_suite = TestSuite(file)\n",
    "        for key,test_info in test_suite._tests.items():\n",
    "            self.add_competition(test_info)\n",
    "    \n",
    "    def load_players_from_file(self, file):\n",
    "        \n",
    "        with open(file, newline='') as csvfile:\n",
    "            \n",
    "            player_result_reader = csv.reader(csvfile, delimiter=',')\n",
    "             \n",
    "            for row in player_result_reader:\n",
    "                \n",
    "                player_name = row[0]\n",
    "                player_info_path = row[1]\n",
    "                \n",
    "                # Create info \n",
    "                \n",
    "                new_player = ComputeResourceTestResults(player_info_path)\n",
    "                \n",
    "                self.add_player(new_player)\n",
    "        \n",
    "    \n",
    "    def play_tournament_at_competition(self, players, competition):\n",
    "        pass\n",
    "    \n",
    "    def play_tournament_at_competitions(self, players, competitions):\n",
    "        pass\n",
    "    \n",
    "    def play_tournament_at_all_competitions(self, players ):\n",
    "        pass\n",
    "    \n",
    "    def play_complete_tournament(self):\n",
    "        pass\n",
    "    \n",
    "    def get_tournament_positions(self):\n",
    "        pass\n",
    "    \n",
    "    def get_tournament_results(self):\n",
    "        pass\n",
    "    "
   ]
  },
  {
   "cell_type": "code",
   "execution_count": 242,
   "metadata": {
    "collapsed": false
   },
   "outputs": [],
   "source": [
    "equivalence_tournament = EquivalenceTournament()\n",
    "equivalence_tournament.add_test_suite(\"./benchmarks/tests.csv\")\n",
    "equivalence_tournament.load_players_from_file(\"./benchmarks/players.csv\")"
   ]
  },
  {
   "cell_type": "code",
   "execution_count": 250,
   "metadata": {
    "collapsed": false
   },
   "outputs": [
    {
     "data": {
      "text/plain": [
       "{'Chipset': 'Intel 440FX- 82441FX PMC',\n",
       " 'Compiler': 'GCC 4.8.4',\n",
       " 'Disk': '40GB',\n",
       " 'File System': 'ext4',\n",
       " 'Graphics': 'Cirrus Logic GD 5446',\n",
       " 'Kernel': '3.13.0-62-generic (x86_64)',\n",
       " 'Memory': '1024MB',\n",
       " 'Monitor': '',\n",
       " 'Motherboard': 'OpenStack Foundation Nova v2014.2.2',\n",
       " 'Network': 'Red Hat Virtio device',\n",
       " 'OS': 'Ubuntu 14.04',\n",
       " 'Processor': 'Intel Core i7 9xx @ 2.93GHz (1 Core)',\n",
       " 'System Layer': ''}"
      ]
     },
     "execution_count": 250,
     "metadata": {},
     "output_type": "execute_result"
    }
   ],
   "source": [
    "equivalence_tournament._players[33]._info.as_map()"
   ]
  },
  {
   "cell_type": "code",
   "execution_count": 251,
   "metadata": {
    "collapsed": false
   },
   "outputs": [
    {
     "data": {
      "text/plain": [
       "34"
      ]
     },
     "execution_count": 251,
     "metadata": {},
     "output_type": "execute_result"
    }
   ],
   "source": [
    "len( equivalence_tournament._players )"
   ]
  },
  {
   "cell_type": "code",
   "execution_count": null,
   "metadata": {
    "collapsed": true
   },
   "outputs": [],
   "source": []
  }
 ],
 "metadata": {
  "kernelspec": {
   "display_name": "Python 3",
   "language": "python",
   "name": "python3"
  },
  "language_info": {
   "codemirror_mode": {
    "name": "ipython",
    "version": 3
   },
   "file_extension": ".py",
   "mimetype": "text/x-python",
   "name": "python",
   "nbconvert_exporter": "python",
   "pygments_lexer": "ipython3",
   "version": "3.5.1+"
  }
 },
 "nbformat": 4,
 "nbformat_minor": 0
}
