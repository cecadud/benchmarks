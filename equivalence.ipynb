{
 "cells": [
  {
   "cell_type": "code",
   "execution_count": 252,
   "metadata": {
    "collapsed": true
   },
   "outputs": [],
   "source": [
    "class ComputeResourceInformation:\n",
    "        \n",
    "    def __init__(self, processor=\"\", memory=\"\", disk=\"\", operating_system=\"\", kernel=\"\", compiler=\"\", file_system=\"\", system_layer=\"\", motherboard=\"\", chipset=\"\", graphics=\"\", network_card=\"\", monitor=\"\"):\n",
    "        self.processor = processor\n",
    "        self.memory = memory\n",
    "        self.disk = disk\n",
    "        self.operating_system = operating_system\n",
    "        self.kernel = kernel\n",
    "        self.compiler = compiler\n",
    "        self.file_system = file_system\n",
    "        self.system_layer = system_layer\n",
    "        self.motherboard = motherboard\n",
    "        self.chipset = chipset\n",
    "        self.graphics = graphics\n",
    "        self.network_card = network_card\n",
    "        self.monitor = monitor\n",
    "        \n",
    "    def as_map(self):\n",
    "        map_repr = {}\n",
    "        \n",
    "        map_repr['Processor'] = self.processor\n",
    "        map_repr['Memory'] = self.memory\n",
    "        map_repr['Disk'] = self.disk\n",
    "        map_repr['OS'] = self.operating_system\n",
    "        map_repr['Kernel'] = self.kernel\n",
    "        map_repr['Compiler'] = self.compiler\n",
    "        map_repr['File System'] = self.file_system\n",
    "        map_repr['System Layer'] = self.system_layer\n",
    "        map_repr['Motherboard'] = self.motherboard\n",
    "        map_repr['Chipset'] = self.chipset\n",
    "        map_repr['Graphics'] = self.graphics\n",
    "        map_repr['Network'] = self.network_card\n",
    "        map_repr['Monitor'] = self.monitor\n",
    "        \n",
    "        return map_repr\n",
    "    \n",
    "    def __str__(self):\n",
    "        return str( self.as_map() )"
   ]
  },
  {
   "cell_type": "code",
   "execution_count": 253,
   "metadata": {
    "collapsed": true
   },
   "outputs": [],
   "source": [
    "class TestNotFound(Exception):\n",
    "    def __init__(self, value=\"Test Not Found\"):\n",
    "        self.value = value\n",
    "    def __str__(self):\n",
    "        return repr(self.value)"
   ]
  },
  {
   "cell_type": "code",
   "execution_count": 254,
   "metadata": {
    "collapsed": false
   },
   "outputs": [],
   "source": [
    "import csv\n",
    "\n",
    "class ComputeResourceTestResults:\n",
    "    \n",
    "    def __init__(self, file = None):\n",
    "        \n",
    "        self._results = {}\n",
    "        self._info = ComputeResourceInformation()\n",
    "        \n",
    "        if file is not None:\n",
    "            self.load_from_file(file)\n",
    "        \n",
    "    def update_resource_info(self, processor, memory, disk, operating_system, kernel, compiler, file_system, \n",
    "                             system_layer='', motherboard='', chipset='', graphics='', network_card=''):\n",
    "            self._info.processor = processor\n",
    "            self._info.memory = memory\n",
    "            self._info.disk = disk\n",
    "            self._info.operating_system = operating_system\n",
    "            self._info.kernel = kernel\n",
    "            self._info.compiler = compiler\n",
    "            self._info.file_system = file_system\n",
    "            self._info.system_layer = system_layer\n",
    "            self._info.motherboard = motherboard\n",
    "            self._info.chipset = chipset\n",
    "            self._info.graphics = graphics\n",
    "            self._info.network_card = network_card\n",
    "            \n",
    "    def add_test_results(self, test_name, test_results_values):\n",
    "        \n",
    "        if test_name not in self._results:\n",
    "            self._results[test_name] = test_results_values\n",
    "        else:\n",
    "            self._results[test_name].extend( test_results_values )\n",
    "    \n",
    "    def add_test_result(self, test_name, test_result_value):\n",
    "        \n",
    "        results = []\n",
    "        results.append(test_result_value)\n",
    "        \n",
    "        self.add_test_results(test_name, results)\n",
    "    \n",
    "    def get_test_results(self, test_name):\n",
    "        try:\n",
    "            return self._results[test_name]\n",
    "        except KeyError as e:\n",
    "            raise TestNotFound(\"Test Not Found\")\n",
    "    \n",
    "    def delete_test_results(self, test_name):\n",
    "        try:\n",
    "            del self._results[test_name]\n",
    "        except KeyError as e:\n",
    "            raise TestNotFound(\"Test Not Found\")\n",
    "            \n",
    "    def load_from_file(self, file):\n",
    "        \n",
    "        processor = ''\n",
    "        memory = ''\n",
    "        disk = ''\n",
    "        operating_system = ''\n",
    "        kernel = ''\n",
    "        compiler = ''\n",
    "        file_system = ''\n",
    "        system_layer = ''\n",
    "        motherboard = ''\n",
    "        chipset = ''\n",
    "        graphics = ''\n",
    "        network_card = ''\n",
    "        \n",
    "        with open(file, newline='') as csvfile:\n",
    "            \n",
    "            test_result_reader = csv.reader(csvfile, delimiter=',')\n",
    "             \n",
    "            for row in test_result_reader:\n",
    "                #print(row)\n",
    "                if len(row) >= 2  and row[0] != ' ':\n",
    "                    if row[0] == 'Processor':\n",
    "                        processor = row[1] # Processor decoded\n",
    "                    elif row[0] == 'Memory':\n",
    "                        memory = row[1]  # Memory decoded\n",
    "                    elif row[0] == 'Disk':\n",
    "                        disk = row[1]    # Disk decoded\n",
    "                    elif row[0] == 'OS':\n",
    "                        operating_system = row[1]  ## OS decoded\n",
    "                    elif row[0] == 'Kernel':\n",
    "                        kernel = row[1]  # Kernel decoded\n",
    "                    elif row[0] == 'Compiler':\n",
    "                        compiler = row[1] # Compiler decoded\n",
    "                    elif row[0] == 'File-System':\n",
    "                        file_system = row[1] # File System decoded\n",
    "                    elif row[0] == 'System Layer':\n",
    "                        system_layer = row[1] # System layer decoded\n",
    "                    elif row[0] == 'Motherboard':\n",
    "                        motherboard = row[1] # Mother board decoded\n",
    "                    elif row[0] == 'Chipset':\n",
    "                        chipset = row[1]  # Chipset decoded\n",
    "                    elif row[0] == 'Graphics':\n",
    "                        graphics = row[1]  # Graphic card decoded\n",
    "                    elif row[0] == 'Network':\n",
    "                        network_card = row[1]  # Network card decoded\n",
    "                    elif row[0] == 'Screen Resolution' or row[0] == 'Monitor':\n",
    "                        pass\n",
    "                    else:\n",
    "                        # Fill test results\n",
    "                        \n",
    "                        self.add_test_results(row[0], [float(x) for x in row[1:]] ) \n",
    "        \n",
    "        self.update_resource_info(processor, memory, disk, operating_system, kernel, compiler, file_system, \n",
    "                                  system_layer, motherboard, chipset, graphics, network_card)\n",
    "                "
   ]
  },
  {
   "cell_type": "code",
   "execution_count": 255,
   "metadata": {
    "collapsed": true
   },
   "outputs": [],
   "source": [
    "aws_m1large_variable = ComputeResourceTestResults('./benchmarks/aws/m1large-aws-variable-ubuntu/merge-2092.csv')\n",
    "aws_m4xlarge_variable = ComputeResourceTestResults('./benchmarks/aws/m44xlarge-aws-variable-ubuntu/merge-7274.csv')\n",
    "aws_m4large_magnetic = ComputeResourceTestResults('./benchmarks/aws/m4large-aws-magnetic-ubuntu/merge-7288.csv')\n",
    "aws_m4large_sdd = ComputeResourceTestResults('./benchmarks/aws/m4large-aws-sdd-ubuntu/merge-6914.csv')\n",
    "aws_t2medium_magnetic = ComputeResourceTestResults('./benchmarks/aws/t2medium-aws-magnetic-ubuntu/merge-9347.csv')\n",
    "aws_t2medium_variable = ComputeResourceTestResults('./benchmarks/aws/t2medium-aws-variable-ubuntu/merge-9691.csv')\n",
    "aws_t2small_magnetic = ComputeResourceTestResults('./benchmarks/aws/t2small-aws-magnetic-ubuntu/merge-8438.csv')"
   ]
  },
  {
   "cell_type": "code",
   "execution_count": 286,
   "metadata": {
    "collapsed": false
   },
   "outputs": [],
   "source": [
    "cecad_2xlarge_gp = ComputeResourceTestResults('./benchmarks/cecad/2xlarge-gp-ubuntu/merge-5274.csv')\n",
    "cecad_2xlarge_hpc = ComputeResourceTestResults('./benchmarks/cecad/2xlarge-hpc-ubuntu/merge-4929.csv')\n",
    "cecad_3xlarge_gp = ComputeResourceTestResults('./benchmarks/cecad/3xlarge-gp-ubuntu/merge-6495.csv')\n",
    "cecad_3xlarge_hpc = ComputeResourceTestResults('./benchmarks/cecad/3xlarge-hpc-ubuntu/merge-6359.csv')\n",
    "cecad_4xlarge_hpc = ComputeResourceTestResults('./benchmarks/cecad/4xlarge-hpc-ubuntu/merge-7671.csv')\n",
    "cecad_5xlarge_hpc = ComputeResourceTestResults('./benchmarks/cecad/5xlarge-hpc-ubuntu/merge-5104.csv')\n",
    "cecad_6xlarge_hpc = ComputeResourceTestResults('./benchmarks/cecad/6xlarge-hpc-ubuntu/merge-4492.csv')\n",
    "cecad_7xlarge_hpc = ComputeResourceTestResults('./benchmarks/cecad/7xlarge-hpc-ubuntu/merge-1826.csv')\n",
    "cecad_8xlarge_hpc = ComputeResourceTestResults('./benchmarks/cecad/8xlarge-hpc-ubuntu/merge-3615.csv')\n",
    "cecad_dl1606g = ComputeResourceTestResults('./benchmarks/cecad/dl1606g-ubuntu/merge-6157.csv')\n",
    "cecad_large_gp = ComputeResourceTestResults('./benchmarks/cecad/large-gp-ubuntu/merge-9893.csv')\n",
    "cecad_large_hpc = ComputeResourceTestResults('./benchmarks/cecad/large-hpc-ubuntu/merge-7675.csv')\n",
    "cecad_large_nova = ComputeResourceTestResults('./benchmarks/cecad/large-ubuntu/merge-9724.csv')\n",
    "cecad_medium_gp = ComputeResourceTestResults('./benchmarks/cecad/medium-gp-ubuntu/merge-5312.csv')\n",
    "cecad_medium_hpc = ComputeResourceTestResults('./benchmarks/cecad/medium-hpc-ubuntu/merge-8901.csv')\n",
    "cecad_medium_nova = ComputeResourceTestResults('./benchmarks/cecad/medium-ubuntu/merge-2260.csv')\n",
    "cecad_r610 = ComputeResourceTestResults('./benchmarks/cecad/r610-ubuntu/merge-8348.csv')\n",
    "cecad_r900 = ComputeResourceTestResults('./benchmarks/cecad/r900-debian/merge-4836.csv')\n",
    "cecad_small_gp = ComputeResourceTestResults('./benchmarks/cecad/small-gp-ubuntu/merge-3500.csv')\n",
    "cecad_small_hpc = ComputeResourceTestResults('./benchmarks/cecad/small-hpc-ubuntu/merge-1569.csv')\n",
    "cecad_small_test = ComputeResourceTestResults('./benchmarks/cecad/small-test-ubuntu/merge-1472.csv')\n",
    "cecad_small_nova = ComputeResourceTestResults('./benchmarks/cecad/small-ubuntu/merge-4467.csv')\n",
    "cecad_xlarge_gp = ComputeResourceTestResults('./benchmarks/cecad/xlarge-gp-ubuntu/merge-1562.csv')\n",
    "cecad_xlarge_hpc = ComputeResourceTestResults('./benchmarks/cecad/xlarge-hpc-ubuntu/merge-3341.csv')\n",
    "cecad_xsmall_gp = ComputeResourceTestResults('./benchmarks/cecad/xsmall-gp-ubuntu/merge-3733.csv')\n",
    "cecad_xsmall_hpc = ComputeResourceTestResults('./benchmarks/cecad/xsmall-hpc-ubuntu/merge-2556.csv')\n",
    "cecad_xsmall_nova = ComputeResourceTestResults('./benchmarks/cecad/xsmall-ubuntu/merge-1877.csv')"
   ]
  },
  {
   "cell_type": "code",
   "execution_count": 287,
   "metadata": {
    "collapsed": false
   },
   "outputs": [
    {
     "name": "stdout",
     "output_type": "stream",
     "text": [
      "{'Disk': '158GB', 'File System': 'ext4', 'Memory': '8192MB', 'Processor': 'Intel Xeon E5-2676 v3 @ 2.39GHz (2 Cores)', 'Network': 'Intel 82599 Virtual Function', 'Graphics': 'Cirrus Logic GD 5446', 'Monitor': '', 'Chipset': 'Intel 440FX- 82441FX PMC', 'Compiler': 'GCC 4.8.4', 'Kernel': '3.13.0-48-generic (x86_64)', 'OS': 'Ubuntu 14.04', 'System Layer': 'Xen HVM domU 4.2.amazon', 'Motherboard': 'Xen HVM domU'}\n"
     ]
    }
   ],
   "source": [
    "print(aws_m4large_sdd._info )"
   ]
  },
  {
   "cell_type": "code",
   "execution_count": 288,
   "metadata": {
    "collapsed": false
   },
   "outputs": [],
   "source": [
    "class TestInformation:\n",
    "    \n",
    "    CPU_TEST = 0\n",
    "    MEMORY_TEST = 1\n",
    "    DISK_TEST = 2\n",
    "    \n",
    "    categories = (\"CPU\",\"MEMORY\",\"DISK\")\n",
    "    \n",
    "    def __init__(self, test_name, units, category = MEMORY_TEST, more_is_better=True):\n",
    "        self.test_name = test_name\n",
    "        self.units = units\n",
    "        self.category = category\n",
    "        self.more_is_better = more_is_better\n",
    "    \n",
    "    def as_map(self):\n",
    "        map_repr = {}\n",
    "        \n",
    "        map_repr['Test Name'] = self.test_name\n",
    "        map_repr['Units'] = self.units\n",
    "        map_repr['Category'] = self.categories[self.category]\n",
    "        map_repr['More Is Better'] = self.more_is_better\n",
    "        \n",
    "        return map_repr\n",
    "    \n",
    "    def __eq__(self,other):\n",
    "        return self.test_name == other.test_name and self.units == other.units\n",
    "    \n",
    "    def __str__(self):\n",
    "        return str( self.as_map() )"
   ]
  },
  {
   "cell_type": "code",
   "execution_count": 289,
   "metadata": {
    "collapsed": false
   },
   "outputs": [
    {
     "data": {
      "text/plain": [
       "{'Category': 'CPU',\n",
       " 'More Is Better': True,\n",
       " 'Test Name': 'SQLite',\n",
       " 'Units': 'MB/s'}"
      ]
     },
     "execution_count": 289,
     "metadata": {},
     "output_type": "execute_result"
    }
   ],
   "source": [
    "test_info = TestInformation(\"SQLite\", \"MB/s\", TestInformation.CPU_TEST, True)\n",
    "test_info.as_map()"
   ]
  },
  {
   "cell_type": "code",
   "execution_count": 290,
   "metadata": {
    "collapsed": true
   },
   "outputs": [],
   "source": [
    "class TestSuite:\n",
    "    \n",
    "    def __init__(self, file = None):\n",
    "        \n",
    "        self._tests = {}\n",
    "        \n",
    "        if file is not None:\n",
    "            self.load_from_file(file)\n",
    "    \n",
    "    def add_test(self, test_name, units, category=TestInformation.MEMORY_TEST, more_is_better=True ):\n",
    "        test_info = TestInformation(test_name, units, category, more_is_better)\n",
    "        self._tests[test_info.test_name] = test_info\n",
    "    \n",
    "    def load_from_file(self, file ):\n",
    "        \n",
    "        with open(file, newline='') as csvfile:\n",
    "            \n",
    "            test_result_reader = csv.reader(csvfile, delimiter=',')\n",
    "             \n",
    "            for row in test_result_reader:\n",
    "                \n",
    "                test_name = row[0]\n",
    "                units = row[1]\n",
    "                category = int(row[2])\n",
    "                more_is_better = False\n",
    "                \n",
    "                if( row[3] == \"True\" ):\n",
    "                    more_is_better = True\n",
    "                \n",
    "                self.add_test(test_name, units, category, more_is_better)\n",
    "    \n",
    "    def get_test_info(self, test_name ):\n",
    "        return self._tests[test_name]"
   ]
  },
  {
   "cell_type": "code",
   "execution_count": 291,
   "metadata": {
    "collapsed": false
   },
   "outputs": [
    {
     "name": "stdout",
     "output_type": "stream",
     "text": [
      "{'Test Name': '7-Zip Compression - Compress Speed Test', 'More Is Better': True, 'Category': 'CPU', 'Units': 'MIPS'}\n"
     ]
    }
   ],
   "source": [
    "test_suite = TestSuite(\"./benchmarks/tests.csv\")\n",
    "print( test_suite._tests['7-Zip Compression - Compress Speed Test'] )"
   ]
  },
  {
   "cell_type": "code",
   "execution_count": 292,
   "metadata": {
    "collapsed": false
   },
   "outputs": [],
   "source": [
    "import scipy as sp\n",
    "from sklearn.cluster import KMeans\n",
    "\n",
    "class ComputeResourceTestTournament:\n",
    "    \n",
    "    POINTS_PER_WIN = 3\n",
    "    POINTS_PER_TIE = 1\n",
    "    POINTS_PER_LOSE = 0\n",
    "    \n",
    "    def __init__(self, test_name, more_is_better=True):\n",
    "        self._test_name = test_name\n",
    "        self._more_is_better = more_is_better\n",
    "        self._players = {}\n",
    "        self._km = None\n",
    "        self._cluster_results = {}\n",
    "        self._tournament = {}\n",
    "        self._results = {}\n",
    "    \n",
    "    def add_player(self, player_name, player):\n",
    "        try:\n",
    "            test_result = player.get_test_results( self._test_name )\n",
    "            self._players[ player_name ] = test_result[0]\n",
    "        except TestNotFound as e:\n",
    "            self._players[ player_name ] = sp.NAN\n",
    "            \n",
    "    def clusterize_results( self, number_clusters=10, init_mode='random', number_init=10, max_iterations=300 ):\n",
    "        \n",
    "        self._km = KMeans(n_clusters=number_clusters, init=init_mode, n_init=number_init, max_iter=max_iterations, random_state=0)\n",
    "        \n",
    "        # Sort players by value\n",
    "        sorted_players = [ (k,v) for v,k in sorted([(v,k) for k,v in self._players.items() ]) ]\n",
    "        \n",
    "        try:\n",
    "            \n",
    "            # Create a 2-dimensional array for doing K-Means\n",
    "            results = [[w,w] for w in sorted(list(self._players.values()))]\n",
    "            results_as_np = sp.array(results)\n",
    "        \n",
    "            # Execute cluster algorithm\n",
    "            y_km = self._km.fit_predict( results_as_np ) \n",
    "        \n",
    "            # Create clustering results {(p_i,clusterid_i)}\n",
    "            for i,item in enumerate(y_km) :\n",
    "                self._cluster_results[ sorted_players[i][0] ] = y_km[i]\n",
    "        \n",
    "        except ValueError as e:  #Doesn't work if Nan values\n",
    "            \n",
    "            results = []\n",
    "            for r in sorted(list(self._players.values())):\n",
    "                if r is not sp.NAN:\n",
    "                    results.append( [r,r] )\n",
    "            \n",
    "            results_as_np = sp.array(results)\n",
    "                            \n",
    "            y_km = self._km.fit_predict( results_as_np ) # Call clustering without Nan\n",
    "            \n",
    "            # Create clustering results {(p_i,clusterid_i)}\n",
    "            \n",
    "            assign_index = 0\n",
    "            \n",
    "            for info in sorted_players:\n",
    "                player_name = info[0]\n",
    "                \n",
    "                if self._players[ player_name ] is not sp.NAN:\n",
    "                    self._cluster_results[ player_name ] = y_km[assign_index]  \n",
    "                    assign_index = assign_index + 1\n",
    "                else:\n",
    "                    self._cluster_results[ player_name ] = sp.NAN\n",
    "  \n",
    "    def play_tournament(self):\n",
    "        \n",
    "        for key1 in self._players:\n",
    "            for key2 in self._players:\n",
    "                \n",
    "                if key1 != key2:\n",
    "                    \n",
    "                    cluster_player_1 = self._cluster_results[ key1 ]\n",
    "                    cluster_player_2 = self._cluster_results[ key2 ]\n",
    "                    \n",
    "                    if cluster_player_1 is sp.NAN: #Player doesn't compete in tournamet. Automatically loses\n",
    "                        points = self.POINTS_PER_LOSE\n",
    "                    else:\n",
    "                        if cluster_player_2 is sp.NAN: #Player doesn't compete in tournamet. Automatically wins\n",
    "                            points = self.POINTS_PER_WIN\n",
    "                        else:\n",
    "                            \n",
    "                            points = self.POINTS_PER_TIE\n",
    "\n",
    "                            # Different cluster?\n",
    "                            if cluster_player_1 != cluster_player_2:\n",
    "\n",
    "                                if( self._km.cluster_centers_[cluster_player_1][0] > self._km.cluster_centers_[cluster_player_2][0] ):\n",
    "                                    if self._more_is_better:\n",
    "                                        points = self.POINTS_PER_WIN\n",
    "                                    else:\n",
    "                                        points = self.POINTS_PER_LOSE\n",
    "                                else:\n",
    "                                    if self._more_is_better:\n",
    "                                        points = self.POINTS_PER_LOSE\n",
    "                                    else:\n",
    "                                        points = self.POINTS_PER_WIN\n",
    "\n",
    "                    match_result = (key2, points)\n",
    "\n",
    "                    if( key1 not in self._tournament):\n",
    "                        self._tournament[key1] = []\n",
    "\n",
    "                    self._tournament[key1].append( match_result )\n",
    "            \n",
    "    def calculate_tournament_results(self ):\n",
    "        # results is a dictionary with the player as the key and a list [points,position] as the value\n",
    "    \n",
    "        # Calculate points and positions for every player\n",
    "        # First, calculate points\n",
    "    \n",
    "        for player in self._tournament:\n",
    "    \n",
    "            points = 0\n",
    "        \n",
    "            for (op,p) in self._tournament[player]:\n",
    "                points = points + p\n",
    "        \n",
    "            self._results[player] = [points,0]\n",
    "            \n",
    "        # Second, recalculate positions\n",
    "        \n",
    "        unsorted_cluster_centers = []\n",
    "        for centers in self._km.cluster_centers_:\n",
    "            unsorted_cluster_centers.append(centers[0])\n",
    "        \n",
    "        sorted_cluster_centers = sorted( unsorted_cluster_centers, reverse=(self._more_is_better) )\n",
    "        \n",
    "        for i,cc in enumerate(sorted_cluster_centers):\n",
    "            # Get cluster index of this value\n",
    "            index = unsorted_cluster_centers.index(cc)\n",
    "            \n",
    "            # Update positions\n",
    "            \n",
    "            for (k,v) in self._cluster_results.items():\n",
    "                if index == v:\n",
    "                    self._results[k][1] = i\n",
    "                if v is sp.NAN:\n",
    "                    self._results[k][1] = len( unsorted_cluster_centers ) +1\n",
    "\n",
    "    def get_points(self, player ):\n",
    "        return self._results[player][0]\n",
    "\n",
    "    def get_position(self, player):\n",
    "        return self._results[player][1]"
   ]
  },
  {
   "cell_type": "code",
   "execution_count": 293,
   "metadata": {
    "collapsed": false
   },
   "outputs": [
    {
     "data": {
      "text/plain": [
       "{'aws_m1large_variable': 71.18,\n",
       " 'aws_m4large_magnetic': 68.47,\n",
       " 'aws_m4large_sdd': 68.49,\n",
       " 'aws_m4xlarge_variable': 8.66,\n",
       " 'aws_t2medium_magnetic': 193.24,\n",
       " 'aws_t2medium_variable': 188.99,\n",
       " 'aws_t2small_magnetic': 389.23,\n",
       " 'cecad_2xlarge_gp': 10.38,\n",
       " 'cecad_2xlarge_hpc': 10.21,\n",
       " 'cecad_3xlarge_gp': 10.92,\n",
       " 'cecad_3xlarge_hpc': 10.23,\n",
       " 'cecad_4xlarge_hpc': 22.7,\n",
       " 'cecad_5xlarge_hpc': 11.55,\n",
       " 'cecad_6xlarge_hpc': 7.98,\n",
       " 'cecad_7xlarge_hpc': 7.27,\n",
       " 'cecad_8xlarge_hpc': 8.06,\n",
       " 'cecad_dl1606g': 19.3,\n",
       " 'cecad_large_gp': 25.5,\n",
       " 'cecad_large_hpc': 39.99,\n",
       " 'cecad_large_nova': 24.58,\n",
       " 'cecad_medium_gp': 47.3,\n",
       " 'cecad_medium_hpc': 90.77,\n",
       " 'cecad_medium_nova': 48.54,\n",
       " 'cecad_r610': 10.31,\n",
       " 'cecad_r900': nan,\n",
       " 'cecad_small_gp': 93.48,\n",
       " 'cecad_small_hpc': 181.27,\n",
       " 'cecad_small_nova': nan,\n",
       " 'cecad_small_test': 154.88,\n",
       " 'cecad_xlarge_gp': 14.13,\n",
       " 'cecad_xlarge_hpc': 20.08,\n",
       " 'cecad_xsmall_gp': 93.34,\n",
       " 'cecad_xsmall_hpc': 179.01,\n",
       " 'cecad_xsmall_nova': 94.12}"
      ]
     },
     "execution_count": 293,
     "metadata": {},
     "output_type": "execute_result"
    }
   ],
   "source": [
    "test = ComputeResourceTestTournament('Tachyon - Total Time',False)\n",
    "test.add_player( 'aws_m1large_variable', aws_m1large_variable )\n",
    "test.add_player( 'aws_m4xlarge_variable', aws_m4xlarge_variable )\n",
    "test.add_player( 'aws_m4large_magnetic', aws_m4large_magnetic )\n",
    "test.add_player( 'aws_m4large_sdd', aws_m4large_sdd )\n",
    "test.add_player( 'aws_t2medium_magnetic', aws_t2medium_magnetic )\n",
    "test.add_player( 'aws_t2medium_variable', aws_t2medium_variable )\n",
    "test.add_player( 'aws_t2small_magnetic', aws_t2small_magnetic )\n",
    "test.add_player( 'cecad_2xlarge_gp', cecad_2xlarge_gp )\n",
    "test.add_player( 'cecad_2xlarge_hpc', cecad_2xlarge_hpc )\n",
    "test.add_player( 'cecad_3xlarge_gp', cecad_3xlarge_gp )\n",
    "test.add_player( 'cecad_3xlarge_hpc', cecad_3xlarge_hpc )\n",
    "test.add_player( 'cecad_4xlarge_hpc', cecad_4xlarge_hpc )\n",
    "test.add_player( 'cecad_5xlarge_hpc', cecad_5xlarge_hpc )\n",
    "test.add_player( 'cecad_6xlarge_hpc', cecad_6xlarge_hpc )\n",
    "test.add_player( 'cecad_7xlarge_hpc', cecad_7xlarge_hpc )\n",
    "test.add_player( 'cecad_8xlarge_hpc', cecad_8xlarge_hpc )\n",
    "test.add_player( 'cecad_dl1606g', cecad_dl1606g )\n",
    "test.add_player( 'cecad_large_gp', cecad_large_gp )\n",
    "test.add_player( 'cecad_large_hpc', cecad_large_hpc )\n",
    "test.add_player( 'cecad_large_nova', cecad_large_nova )\n",
    "test.add_player( 'cecad_medium_gp', cecad_medium_gp )\n",
    "test.add_player( 'cecad_medium_hpc', cecad_medium_hpc )\n",
    "test.add_player( 'cecad_medium_nova', cecad_medium_nova )\n",
    "test.add_player( 'cecad_r610', cecad_r610 )\n",
    "test.add_player( 'cecad_r900', cecad_r900 )\n",
    "test.add_player( 'cecad_small_gp', cecad_small_gp )\n",
    "test.add_player( 'cecad_small_hpc', cecad_small_hpc )\n",
    "test.add_player( 'cecad_small_test', cecad_small_test )\n",
    "test.add_player( 'cecad_small_nova', cecad_small_nova )\n",
    "test.add_player( 'cecad_xlarge_gp', cecad_xlarge_gp )\n",
    "test.add_player( 'cecad_xlarge_hpc', cecad_xlarge_hpc )\n",
    "test.add_player( 'cecad_xsmall_gp', cecad_xsmall_gp )\n",
    "test.add_player( 'cecad_xsmall_hpc', cecad_xsmall_hpc )\n",
    "test.add_player( 'cecad_xsmall_nova', cecad_xsmall_nova )\n",
    "test._players"
   ]
  },
  {
   "cell_type": "code",
   "execution_count": 294,
   "metadata": {
    "collapsed": false
   },
   "outputs": [],
   "source": [
    "test.clusterize_results( 10, 'random', 10, 300 )"
   ]
  },
  {
   "cell_type": "code",
   "execution_count": 295,
   "metadata": {
    "collapsed": false
   },
   "outputs": [
    {
     "data": {
      "text/plain": [
       "{'aws_m1large_variable': 5,\n",
       " 'aws_m4large_magnetic': 5,\n",
       " 'aws_m4large_sdd': 5,\n",
       " 'aws_m4xlarge_variable': 1,\n",
       " 'aws_t2medium_magnetic': 9,\n",
       " 'aws_t2medium_variable': 9,\n",
       " 'aws_t2small_magnetic': 0,\n",
       " 'cecad_2xlarge_gp': 1,\n",
       " 'cecad_2xlarge_hpc': 1,\n",
       " 'cecad_3xlarge_gp': 1,\n",
       " 'cecad_3xlarge_hpc': 1,\n",
       " 'cecad_4xlarge_hpc': 2,\n",
       " 'cecad_5xlarge_hpc': 1,\n",
       " 'cecad_6xlarge_hpc': 1,\n",
       " 'cecad_7xlarge_hpc': 1,\n",
       " 'cecad_8xlarge_hpc': 1,\n",
       " 'cecad_dl1606g': 2,\n",
       " 'cecad_large_gp': 2,\n",
       " 'cecad_large_hpc': 4,\n",
       " 'cecad_large_nova': 2,\n",
       " 'cecad_medium_gp': 3,\n",
       " 'cecad_medium_hpc': 6,\n",
       " 'cecad_medium_nova': 3,\n",
       " 'cecad_r610': 1,\n",
       " 'cecad_r900': nan,\n",
       " 'cecad_small_gp': 8,\n",
       " 'cecad_small_hpc': 9,\n",
       " 'cecad_small_nova': nan,\n",
       " 'cecad_small_test': 7,\n",
       " 'cecad_xlarge_gp': 1,\n",
       " 'cecad_xlarge_hpc': 2,\n",
       " 'cecad_xsmall_gp': 8,\n",
       " 'cecad_xsmall_hpc': 9,\n",
       " 'cecad_xsmall_nova': 8}"
      ]
     },
     "execution_count": 295,
     "metadata": {},
     "output_type": "execute_result"
    }
   ],
   "source": [
    "test._cluster_results"
   ]
  },
  {
   "cell_type": "code",
   "execution_count": 296,
   "metadata": {
    "collapsed": false
   },
   "outputs": [
    {
     "data": {
      "text/plain": [
       "array([[ 389.23      ,  389.23      ],\n",
       "       [   9.97272727,    9.97272727],\n",
       "       [  22.432     ,   22.432     ],\n",
       "       [  47.92      ,   47.92      ],\n",
       "       [  39.99      ,   39.99      ],\n",
       "       [  69.38      ,   69.38      ],\n",
       "       [  90.77      ,   90.77      ],\n",
       "       [ 154.88      ,  154.88      ],\n",
       "       [  93.64666667,   93.64666667],\n",
       "       [ 185.6275    ,  185.6275    ]])"
      ]
     },
     "execution_count": 296,
     "metadata": {},
     "output_type": "execute_result"
    }
   ],
   "source": [
    "test._km.cluster_centers_"
   ]
  },
  {
   "cell_type": "code",
   "execution_count": 297,
   "metadata": {
    "collapsed": false
   },
   "outputs": [],
   "source": [
    "test.play_tournament()"
   ]
  },
  {
   "cell_type": "code",
   "execution_count": 298,
   "metadata": {
    "collapsed": false
   },
   "outputs": [
    {
     "data": {
      "text/plain": [
       "[('cecad_small_gp', 3),\n",
       " ('cecad_xsmall_nova', 3),\n",
       " ('cecad_2xlarge_hpc', 0),\n",
       " ('cecad_3xlarge_hpc', 0),\n",
       " ('cecad_xlarge_hpc', 0),\n",
       " ('cecad_xsmall_hpc', 3),\n",
       " ('cecad_6xlarge_hpc', 0),\n",
       " ('aws_m4xlarge_variable', 0),\n",
       " ('cecad_medium_gp', 0),\n",
       " ('cecad_3xlarge_gp', 0),\n",
       " ('cecad_large_gp', 0),\n",
       " ('aws_t2medium_magnetic', 3),\n",
       " ('cecad_large_hpc', 0),\n",
       " ('cecad_4xlarge_hpc', 0),\n",
       " ('cecad_2xlarge_gp', 0),\n",
       " ('cecad_r610', 0),\n",
       " ('cecad_7xlarge_hpc', 0),\n",
       " ('cecad_medium_nova', 0),\n",
       " ('cecad_medium_hpc', 3),\n",
       " ('cecad_xlarge_gp', 0),\n",
       " ('cecad_small_test', 3),\n",
       " ('cecad_large_nova', 0),\n",
       " ('cecad_dl1606g', 0),\n",
       " ('aws_m4large_magnetic', 1),\n",
       " ('aws_t2medium_variable', 3),\n",
       " ('cecad_small_nova', 3),\n",
       " ('cecad_r900', 3),\n",
       " ('aws_t2small_magnetic', 3),\n",
       " ('cecad_5xlarge_hpc', 0),\n",
       " ('aws_m4large_sdd', 1),\n",
       " ('cecad_xsmall_gp', 3),\n",
       " ('cecad_small_hpc', 3),\n",
       " ('cecad_8xlarge_hpc', 0)]"
      ]
     },
     "execution_count": 298,
     "metadata": {},
     "output_type": "execute_result"
    }
   ],
   "source": [
    "test._tournament[\"aws_m1large_variable\"]"
   ]
  },
  {
   "cell_type": "code",
   "execution_count": 299,
   "metadata": {
    "collapsed": false
   },
   "outputs": [
    {
     "data": {
      "text/plain": [
       "dict_items([('cecad_medium_hpc', 6), ('cecad_xlarge_hpc', 2), ('cecad_xsmall_nova', 8), ('cecad_2xlarge_hpc', 1), ('cecad_3xlarge_hpc', 1), ('cecad_small_gp', 8), ('cecad_xsmall_hpc', 9), ('aws_m1large_variable', 5), ('cecad_6xlarge_hpc', 1), ('aws_t2medium_magnetic', 9), ('aws_m4xlarge_variable', 1), ('cecad_medium_gp', 3), ('cecad_3xlarge_gp', 1), ('cecad_large_gp', 2), ('cecad_small_test', 7), ('cecad_large_hpc', 4), ('cecad_4xlarge_hpc', 2), ('cecad_2xlarge_gp', 1), ('cecad_7xlarge_hpc', 1), ('cecad_medium_nova', 3), ('cecad_r610', 1), ('cecad_xlarge_gp', 1), ('cecad_large_nova', 2), ('cecad_dl1606g', 2), ('aws_m4large_magnetic', 5), ('aws_t2medium_variable', 9), ('cecad_small_nova', nan), ('cecad_r900', nan), ('aws_t2small_magnetic', 0), ('cecad_5xlarge_hpc', 1), ('aws_m4large_sdd', 5), ('cecad_xsmall_gp', 8), ('cecad_small_hpc', 9), ('cecad_8xlarge_hpc', 1)])"
      ]
     },
     "execution_count": 299,
     "metadata": {},
     "output_type": "execute_result"
    }
   ],
   "source": [
    "test._cluster_results.items()"
   ]
  },
  {
   "cell_type": "code",
   "execution_count": 300,
   "metadata": {
    "collapsed": false
   },
   "outputs": [
    {
     "data": {
      "text/plain": [
       "38"
      ]
     },
     "execution_count": 300,
     "metadata": {},
     "output_type": "execute_result"
    }
   ],
   "source": [
    "test.calculate_tournament_results()\n",
    "points = test.get_points(\"aws_m1large_variable\")\n",
    "points"
   ]
  },
  {
   "cell_type": "code",
   "execution_count": 301,
   "metadata": {
    "collapsed": false
   },
   "outputs": [
    {
     "data": {
      "text/plain": [
       "58"
      ]
     },
     "execution_count": 301,
     "metadata": {},
     "output_type": "execute_result"
    }
   ],
   "source": [
    "points = test.get_points(\"cecad_dl1606g\")\n",
    "points"
   ]
  },
  {
   "cell_type": "code",
   "execution_count": 302,
   "metadata": {
    "collapsed": false
   },
   "outputs": [
    {
     "data": {
      "text/plain": [
       "79"
      ]
     },
     "execution_count": 302,
     "metadata": {},
     "output_type": "execute_result"
    }
   ],
   "source": [
    "points = test.get_points(\"cecad_r610\")\n",
    "points"
   ]
  },
  {
   "cell_type": "code",
   "execution_count": 303,
   "metadata": {
    "collapsed": false
   },
   "outputs": [
    {
     "data": {
      "text/plain": [
       "{'aws_m1large_variable': [38, 4],\n",
       " 'aws_m4large_magnetic': [38, 4],\n",
       " 'aws_m4large_sdd': [38, 4],\n",
       " 'aws_m4xlarge_variable': [79, 0],\n",
       " 'aws_t2medium_magnetic': [12, 8],\n",
       " 'aws_t2medium_variable': [12, 8],\n",
       " 'aws_t2small_magnetic': [6, 9],\n",
       " 'cecad_2xlarge_gp': [79, 0],\n",
       " 'cecad_2xlarge_hpc': [79, 0],\n",
       " 'cecad_3xlarge_gp': [79, 0],\n",
       " 'cecad_3xlarge_hpc': [79, 0],\n",
       " 'cecad_4xlarge_hpc': [58, 1],\n",
       " 'cecad_5xlarge_hpc': [79, 0],\n",
       " 'cecad_6xlarge_hpc': [79, 0],\n",
       " 'cecad_7xlarge_hpc': [79, 0],\n",
       " 'cecad_8xlarge_hpc': [79, 0],\n",
       " 'cecad_dl1606g': [58, 1],\n",
       " 'cecad_large_gp': [58, 1],\n",
       " 'cecad_large_hpc': [51, 2],\n",
       " 'cecad_large_nova': [58, 1],\n",
       " 'cecad_medium_gp': [46, 3],\n",
       " 'cecad_medium_hpc': [33, 5],\n",
       " 'cecad_medium_nova': [46, 3],\n",
       " 'cecad_r610': [79, 0],\n",
       " 'cecad_r900': [0, 11],\n",
       " 'cecad_small_gp': [26, 6],\n",
       " 'cecad_small_hpc': [12, 8],\n",
       " 'cecad_small_nova': [0, 11],\n",
       " 'cecad_small_test': [21, 7],\n",
       " 'cecad_xlarge_gp': [79, 0],\n",
       " 'cecad_xlarge_hpc': [58, 1],\n",
       " 'cecad_xsmall_gp': [26, 6],\n",
       " 'cecad_xsmall_hpc': [12, 8],\n",
       " 'cecad_xsmall_nova': [26, 6]}"
      ]
     },
     "execution_count": 303,
     "metadata": {},
     "output_type": "execute_result"
    }
   ],
   "source": [
    "test._results"
   ]
  },
  {
   "cell_type": "code",
   "execution_count": 274,
   "metadata": {
    "collapsed": false
   },
   "outputs": [
    {
     "data": {
      "text/plain": [
       "[('cecad_7xlarge_hpc', 7.27),\n",
       " ('cecad_6xlarge_hpc', 7.98),\n",
       " ('cecad_8xlarge_hpc', 8.06),\n",
       " ('aws_m4xlarge_variable', 8.66),\n",
       " ('cecad_2xlarge_hpc', 10.21),\n",
       " ('cecad_3xlarge_hpc', 10.23),\n",
       " ('cecad_r610', 10.31),\n",
       " ('cecad_2xlarge_gp', 10.38),\n",
       " ('cecad_3xlarge_gp', 10.92),\n",
       " ('cecad_5xlarge_hpc', 11.55),\n",
       " ('cecad_xlarge_gp', 14.13),\n",
       " ('cecad_dl1606g', 19.3),\n",
       " ('cecad_large_hpc', 20.08),\n",
       " ('cecad_4xlarge_hpc', 22.7),\n",
       " ('cecad_large_nova', 24.58),\n",
       " ('cecad_large_gp', 25.5),\n",
       " ('cecad_medium_gp', 47.3),\n",
       " ('cecad_medium_nova', 48.54),\n",
       " ('aws_m4large_magnetic', 68.47),\n",
       " ('aws_m4large_sdd', 68.49),\n",
       " ('aws_m1large_variable', 71.18),\n",
       " ('cecad_medium_hpc', 90.77),\n",
       " ('cecad_xsmall_gp', 93.34),\n",
       " ('cecad_small_gp', 93.48),\n",
       " ('cecad_xsmall_nova', 94.12),\n",
       " ('cecad_small_test', 154.88),\n",
       " ('cecad_xsmall_hpc', 179.01),\n",
       " ('cecad_small_hpc', 181.27),\n",
       " ('aws_t2medium_variable', 188.99),\n",
       " ('aws_t2medium_magnetic', 193.24),\n",
       " ('cecad_r900', nan),\n",
       " ('cecad_small_nova', nan),\n",
       " ('aws_t2small_magnetic', 389.23)]"
      ]
     },
     "execution_count": 274,
     "metadata": {},
     "output_type": "execute_result"
    }
   ],
   "source": [
    "sorted_players = [ (k,v) for v,k in sorted([(v,k) for k,v in test._players.items() ]) ]\n",
    "sorted_players"
   ]
  },
  {
   "cell_type": "code",
   "execution_count": 275,
   "metadata": {
    "collapsed": false
   },
   "outputs": [
    {
     "data": {
      "text/plain": [
       "array([   7.27,    7.98,    8.06,    8.66,   10.21,   10.23,   10.31,\n",
       "         10.38,   10.92,   11.55,   14.13,   19.3 ,   20.08,   22.7 ,\n",
       "         24.58,   25.5 ,   47.3 ,   48.54,   68.47,   68.49,   71.18,\n",
       "         90.77,   93.34,   93.48,   94.12,  154.88,  179.01,  181.27,\n",
       "        188.99,  193.24,     nan,     nan,  389.23])"
      ]
     },
     "execution_count": 275,
     "metadata": {},
     "output_type": "execute_result"
    }
   ],
   "source": [
    "import scipy as sp\n",
    "test_results = sp.array( sorted(list(test._players.values()) ) ) \n",
    "test_results"
   ]
  },
  {
   "cell_type": "code",
   "execution_count": 276,
   "metadata": {
    "collapsed": false
   },
   "outputs": [],
   "source": [
    "import matplotlib.pyplot as plt\n",
    "#plt.scatter([w for w in range( len( stream_copy._players  ) ) ],stream_copy_results,s=10)\n",
    "plt.scatter(test_results, test_results,s=20)\n",
    "plt.title(test._test_name)\n",
    "plt.xlabel(\"MB/s\")\n",
    "plt.ylabel(\"MB/s\")\n",
    "plt.autoscale(tight=True)\n",
    "plt.grid(True, linestyle='-', color='0.75')\n",
    "plt.show()"
   ]
  },
  {
   "cell_type": "code",
   "execution_count": 277,
   "metadata": {
    "collapsed": false
   },
   "outputs": [],
   "source": [
    "from sklearn.cluster import KMeans\n",
    "km = KMeans(n_clusters=10, init='random', n_init=10, max_iter=300, random_state=0)"
   ]
  },
  {
   "cell_type": "code",
   "execution_count": 278,
   "metadata": {
    "collapsed": false
   },
   "outputs": [
    {
     "data": {
      "text/plain": [
       "[[7.27, 7.27],\n",
       " [7.98, 7.98],\n",
       " [8.06, 8.06],\n",
       " [8.66, 8.66],\n",
       " [10.21, 10.21],\n",
       " [10.23, 10.23],\n",
       " [10.31, 10.31],\n",
       " [10.38, 10.38],\n",
       " [10.92, 10.92],\n",
       " [11.55, 11.55],\n",
       " [14.13, 14.13],\n",
       " [19.3, 19.3],\n",
       " [20.08, 20.08],\n",
       " [22.7, 22.7],\n",
       " [24.58, 24.58],\n",
       " [25.5, 25.5],\n",
       " [47.3, 47.3],\n",
       " [48.54, 48.54],\n",
       " [68.47, 68.47],\n",
       " [68.49, 68.49],\n",
       " [71.18, 71.18],\n",
       " [90.77, 90.77],\n",
       " [93.34, 93.34],\n",
       " [93.48, 93.48],\n",
       " [94.12, 94.12],\n",
       " [154.88, 154.88],\n",
       " [179.01, 179.01],\n",
       " [181.27, 181.27],\n",
       " [188.99, 188.99],\n",
       " [193.24, 193.24],\n",
       " [nan, nan],\n",
       " [nan, nan],\n",
       " [389.23, 389.23]]"
      ]
     },
     "execution_count": 278,
     "metadata": {},
     "output_type": "execute_result"
    }
   ],
   "source": [
    "results = [[w,w] for w in sorted(list(test._players.values()))]\n",
    "results\n"
   ]
  },
  {
   "cell_type": "code",
   "execution_count": 279,
   "metadata": {
    "collapsed": false
   },
   "outputs": [
    {
     "data": {
      "text/plain": [
       "array([[   7.27,    7.27],\n",
       "       [   7.98,    7.98],\n",
       "       [   8.06,    8.06],\n",
       "       [   8.66,    8.66],\n",
       "       [  10.21,   10.21],\n",
       "       [  10.23,   10.23],\n",
       "       [  10.31,   10.31],\n",
       "       [  10.38,   10.38],\n",
       "       [  10.92,   10.92],\n",
       "       [  11.55,   11.55],\n",
       "       [  14.13,   14.13],\n",
       "       [  19.3 ,   19.3 ],\n",
       "       [  20.08,   20.08],\n",
       "       [  22.7 ,   22.7 ],\n",
       "       [  24.58,   24.58],\n",
       "       [  25.5 ,   25.5 ],\n",
       "       [  47.3 ,   47.3 ],\n",
       "       [  48.54,   48.54],\n",
       "       [  68.47,   68.47],\n",
       "       [  68.49,   68.49],\n",
       "       [  71.18,   71.18],\n",
       "       [  90.77,   90.77],\n",
       "       [  93.34,   93.34],\n",
       "       [  93.48,   93.48],\n",
       "       [  94.12,   94.12],\n",
       "       [ 154.88,  154.88],\n",
       "       [ 179.01,  179.01],\n",
       "       [ 181.27,  181.27],\n",
       "       [ 188.99,  188.99],\n",
       "       [ 193.24,  193.24],\n",
       "       [    nan,     nan],\n",
       "       [    nan,     nan],\n",
       "       [ 389.23,  389.23]])"
      ]
     },
     "execution_count": 279,
     "metadata": {},
     "output_type": "execute_result"
    }
   ],
   "source": [
    "data_to_cluster = sp.array(results)\n",
    "data_to_cluster\n"
   ]
  },
  {
   "cell_type": "code",
   "execution_count": 280,
   "metadata": {
    "collapsed": false
   },
   "outputs": [
    {
     "ename": "ValueError",
     "evalue": "Input contains NaN, infinity or a value too large for dtype('float64').",
     "output_type": "error",
     "traceback": [
      "\u001b[1;31m---------------------------------------------------------------------------\u001b[0m",
      "\u001b[1;31mValueError\u001b[0m                                Traceback (most recent call last)",
      "\u001b[1;32m<ipython-input-280-6bceafb44d6c>\u001b[0m in \u001b[0;36m<module>\u001b[1;34m()\u001b[0m\n\u001b[1;32m----> 1\u001b[1;33m \u001b[0my_km\u001b[0m \u001b[1;33m=\u001b[0m \u001b[0mkm\u001b[0m\u001b[1;33m.\u001b[0m\u001b[0mfit_predict\u001b[0m\u001b[1;33m(\u001b[0m\u001b[0mdata_to_cluster\u001b[0m\u001b[1;33m)\u001b[0m\u001b[1;33m\u001b[0m\u001b[0m\n\u001b[0m\u001b[0;32m      2\u001b[0m \u001b[0my_km\u001b[0m\u001b[1;33m\u001b[0m\u001b[0m\n",
      "\u001b[1;32m/usr/local/lib/python3.5/dist-packages/sklearn/cluster/k_means_.py\u001b[0m in \u001b[0;36mfit_predict\u001b[1;34m(self, X, y)\u001b[0m\n\u001b[0;32m    828\u001b[0m         \u001b[0mpredict\u001b[0m\u001b[1;33m(\u001b[0m\u001b[0mX\u001b[0m\u001b[1;33m)\u001b[0m\u001b[1;33m.\u001b[0m\u001b[1;33m\u001b[0m\u001b[0m\n\u001b[0;32m    829\u001b[0m         \"\"\"\n\u001b[1;32m--> 830\u001b[1;33m         \u001b[1;32mreturn\u001b[0m \u001b[0mself\u001b[0m\u001b[1;33m.\u001b[0m\u001b[0mfit\u001b[0m\u001b[1;33m(\u001b[0m\u001b[0mX\u001b[0m\u001b[1;33m)\u001b[0m\u001b[1;33m.\u001b[0m\u001b[0mlabels_\u001b[0m\u001b[1;33m\u001b[0m\u001b[0m\n\u001b[0m\u001b[0;32m    831\u001b[0m \u001b[1;33m\u001b[0m\u001b[0m\n\u001b[0;32m    832\u001b[0m     \u001b[1;32mdef\u001b[0m \u001b[0mfit_transform\u001b[0m\u001b[1;33m(\u001b[0m\u001b[0mself\u001b[0m\u001b[1;33m,\u001b[0m \u001b[0mX\u001b[0m\u001b[1;33m,\u001b[0m \u001b[0my\u001b[0m\u001b[1;33m=\u001b[0m\u001b[1;32mNone\u001b[0m\u001b[1;33m)\u001b[0m\u001b[1;33m:\u001b[0m\u001b[1;33m\u001b[0m\u001b[0m\n",
      "\u001b[1;32m/usr/local/lib/python3.5/dist-packages/sklearn/cluster/k_means_.py\u001b[0m in \u001b[0;36mfit\u001b[1;34m(self, X, y)\u001b[0m\n\u001b[0;32m    810\u001b[0m         \"\"\"\n\u001b[0;32m    811\u001b[0m         \u001b[0mrandom_state\u001b[0m \u001b[1;33m=\u001b[0m \u001b[0mcheck_random_state\u001b[0m\u001b[1;33m(\u001b[0m\u001b[0mself\u001b[0m\u001b[1;33m.\u001b[0m\u001b[0mrandom_state\u001b[0m\u001b[1;33m)\u001b[0m\u001b[1;33m\u001b[0m\u001b[0m\n\u001b[1;32m--> 812\u001b[1;33m         \u001b[0mX\u001b[0m \u001b[1;33m=\u001b[0m \u001b[0mself\u001b[0m\u001b[1;33m.\u001b[0m\u001b[0m_check_fit_data\u001b[0m\u001b[1;33m(\u001b[0m\u001b[0mX\u001b[0m\u001b[1;33m)\u001b[0m\u001b[1;33m\u001b[0m\u001b[0m\n\u001b[0m\u001b[0;32m    813\u001b[0m \u001b[1;33m\u001b[0m\u001b[0m\n\u001b[0;32m    814\u001b[0m         \u001b[0mself\u001b[0m\u001b[1;33m.\u001b[0m\u001b[0mcluster_centers_\u001b[0m\u001b[1;33m,\u001b[0m \u001b[0mself\u001b[0m\u001b[1;33m.\u001b[0m\u001b[0mlabels_\u001b[0m\u001b[1;33m,\u001b[0m \u001b[0mself\u001b[0m\u001b[1;33m.\u001b[0m\u001b[0minertia_\u001b[0m\u001b[1;33m,\u001b[0m \u001b[0mself\u001b[0m\u001b[1;33m.\u001b[0m\u001b[0mn_iter_\u001b[0m \u001b[1;33m=\u001b[0m\u001b[0;31m \u001b[0m\u001b[0;31m\\\u001b[0m\u001b[1;33m\u001b[0m\u001b[0m\n",
      "\u001b[1;32m/usr/local/lib/python3.5/dist-packages/sklearn/cluster/k_means_.py\u001b[0m in \u001b[0;36m_check_fit_data\u001b[1;34m(self, X)\u001b[0m\n\u001b[0;32m    784\u001b[0m     \u001b[1;32mdef\u001b[0m \u001b[0m_check_fit_data\u001b[0m\u001b[1;33m(\u001b[0m\u001b[0mself\u001b[0m\u001b[1;33m,\u001b[0m \u001b[0mX\u001b[0m\u001b[1;33m)\u001b[0m\u001b[1;33m:\u001b[0m\u001b[1;33m\u001b[0m\u001b[0m\n\u001b[0;32m    785\u001b[0m         \u001b[1;34m\"\"\"Verify that the number of samples given is larger than k\"\"\"\u001b[0m\u001b[1;33m\u001b[0m\u001b[0m\n\u001b[1;32m--> 786\u001b[1;33m         \u001b[0mX\u001b[0m \u001b[1;33m=\u001b[0m \u001b[0mcheck_array\u001b[0m\u001b[1;33m(\u001b[0m\u001b[0mX\u001b[0m\u001b[1;33m,\u001b[0m \u001b[0maccept_sparse\u001b[0m\u001b[1;33m=\u001b[0m\u001b[1;34m'csr'\u001b[0m\u001b[1;33m,\u001b[0m \u001b[0mdtype\u001b[0m\u001b[1;33m=\u001b[0m\u001b[0mnp\u001b[0m\u001b[1;33m.\u001b[0m\u001b[0mfloat64\u001b[0m\u001b[1;33m)\u001b[0m\u001b[1;33m\u001b[0m\u001b[0m\n\u001b[0m\u001b[0;32m    787\u001b[0m         \u001b[1;32mif\u001b[0m \u001b[0mX\u001b[0m\u001b[1;33m.\u001b[0m\u001b[0mshape\u001b[0m\u001b[1;33m[\u001b[0m\u001b[1;36m0\u001b[0m\u001b[1;33m]\u001b[0m \u001b[1;33m<\u001b[0m \u001b[0mself\u001b[0m\u001b[1;33m.\u001b[0m\u001b[0mn_clusters\u001b[0m\u001b[1;33m:\u001b[0m\u001b[1;33m\u001b[0m\u001b[0m\n\u001b[0;32m    788\u001b[0m             raise ValueError(\"n_samples=%d should be >= n_clusters=%d\" % (\n",
      "\u001b[1;32m/usr/local/lib/python3.5/dist-packages/sklearn/utils/validation.py\u001b[0m in \u001b[0;36mcheck_array\u001b[1;34m(array, accept_sparse, dtype, order, copy, force_all_finite, ensure_2d, allow_nd, ensure_min_samples, ensure_min_features, warn_on_dtype, estimator)\u001b[0m\n\u001b[0;32m    396\u001b[0m                              % (array.ndim, estimator_name))\n\u001b[0;32m    397\u001b[0m         \u001b[1;32mif\u001b[0m \u001b[0mforce_all_finite\u001b[0m\u001b[1;33m:\u001b[0m\u001b[1;33m\u001b[0m\u001b[0m\n\u001b[1;32m--> 398\u001b[1;33m             \u001b[0m_assert_all_finite\u001b[0m\u001b[1;33m(\u001b[0m\u001b[0marray\u001b[0m\u001b[1;33m)\u001b[0m\u001b[1;33m\u001b[0m\u001b[0m\n\u001b[0m\u001b[0;32m    399\u001b[0m \u001b[1;33m\u001b[0m\u001b[0m\n\u001b[0;32m    400\u001b[0m     \u001b[0mshape_repr\u001b[0m \u001b[1;33m=\u001b[0m \u001b[0m_shape_repr\u001b[0m\u001b[1;33m(\u001b[0m\u001b[0marray\u001b[0m\u001b[1;33m.\u001b[0m\u001b[0mshape\u001b[0m\u001b[1;33m)\u001b[0m\u001b[1;33m\u001b[0m\u001b[0m\n",
      "\u001b[1;32m/usr/local/lib/python3.5/dist-packages/sklearn/utils/validation.py\u001b[0m in \u001b[0;36m_assert_all_finite\u001b[1;34m(X)\u001b[0m\n\u001b[0;32m     52\u001b[0m             and not np.isfinite(X).all()):\n\u001b[0;32m     53\u001b[0m         raise ValueError(\"Input contains NaN, infinity\"\n\u001b[1;32m---> 54\u001b[1;33m                          \" or a value too large for %r.\" % X.dtype)\n\u001b[0m\u001b[0;32m     55\u001b[0m \u001b[1;33m\u001b[0m\u001b[0m\n\u001b[0;32m     56\u001b[0m \u001b[1;33m\u001b[0m\u001b[0m\n",
      "\u001b[1;31mValueError\u001b[0m: Input contains NaN, infinity or a value too large for dtype('float64')."
     ]
    }
   ],
   "source": [
    "y_km = km.fit_predict(data_to_cluster)\n",
    "y_km"
   ]
  },
  {
   "cell_type": "code",
   "execution_count": null,
   "metadata": {
    "collapsed": false
   },
   "outputs": [],
   "source": [
    "km.labels_"
   ]
  },
  {
   "cell_type": "code",
   "execution_count": null,
   "metadata": {
    "collapsed": false
   },
   "outputs": [],
   "source": [
    "km.cluster_centers_"
   ]
  },
  {
   "cell_type": "code",
   "execution_count": null,
   "metadata": {
    "collapsed": false
   },
   "outputs": [],
   "source": [
    "len(y_km)"
   ]
  },
  {
   "cell_type": "code",
   "execution_count": null,
   "metadata": {
    "collapsed": false
   },
   "outputs": [],
   "source": [
    "clustering_results = {}\n",
    "for i,item in enumerate(y_km) :\n",
    "    clustering_results[ sorted_players[i][0] ] = y_km[i]\n",
    "clustering_results"
   ]
  },
  {
   "cell_type": "code",
   "execution_count": null,
   "metadata": {
    "collapsed": false
   },
   "outputs": [],
   "source": [
    "test._players.keys()"
   ]
  },
  {
   "cell_type": "code",
   "execution_count": 368,
   "metadata": {
    "collapsed": false
   },
   "outputs": [],
   "source": [
    "class EquivalenceTournament:\n",
    "        \n",
    "    def __init__(self):\n",
    "        self._competitions = []\n",
    "        self._players = {}\n",
    "        self._tournament = {}\n",
    "        self._results = {}\n",
    "    \n",
    "    def add_player(self, player_name, new_player):\n",
    "        self._players[player_name] = new_player\n",
    "    \n",
    "    def add_competition(self, competition):\n",
    "        self._competitions.append( competition )\n",
    "    \n",
    "    def add_competitions(self, competitions):\n",
    "        self._competitions.extend( competitions )\n",
    "    \n",
    "    def add_test_suite(self, file):\n",
    "        test_suite = TestSuite(file)\n",
    "        for key,test_info in test_suite._tests.items():\n",
    "            self.add_competition(test_info)\n",
    "    \n",
    "    def load_players_from_file(self, file):\n",
    "        \n",
    "        with open(file, newline='') as csvfile:\n",
    "            \n",
    "            player_result_reader = csv.reader(csvfile, delimiter=',')\n",
    "             \n",
    "            for row in player_result_reader:\n",
    "                \n",
    "                player_name = row[0]\n",
    "                player_info_path = row[1]\n",
    "                \n",
    "                # Create info \n",
    "                \n",
    "                new_player = ComputeResourceTestResults(player_info_path)\n",
    "                \n",
    "                self.add_player(player_name, new_player)\n",
    "        \n",
    "    \n",
    "    def play_tournament_at_competition(self, players, competition):\n",
    "        pass\n",
    "    \n",
    "    def play_tournament_at_competitions(self, players, competitions):\n",
    "        pass\n",
    "    \n",
    "    def play_tournament_at_all_competitions(self, players ):\n",
    "        pass\n",
    "    \n",
    "    def play_complete_tournament(self):\n",
    "        \n",
    "        for test_info in self._competitions:\n",
    "            \n",
    "            test = ComputeResourceTestTournament(test_info.test_name, test_info.more_is_better )\n",
    "            \n",
    "            for k,v in self._players.items():\n",
    "                test.add_player(k,v)\n",
    "                \n",
    "            test.clusterize_results( 10, 'random', 10, 300 )\n",
    "            test.play_tournament()\n",
    "            test.calculate_tournament_results()\n",
    "            \n",
    "            self._tournament[test_info.test_name] = test\n",
    "    \n",
    "    def calculate_tournament_results(self):\n",
    "        \n",
    "        # Calculate total points of player\n",
    "        \n",
    "        for player in self._players:\n",
    "            \n",
    "            points = 0\n",
    "            \n",
    "            for result in self._tournament.values():\n",
    "                points = points + result.get_points( player )\n",
    "                \n",
    "            self._results[player] = [points,0]\n",
    "            \n",
    "        # Second, recalculate positions\n",
    "        \n",
    "        unsorted_points = [ r[0] for r in self._results.values() ]\n",
    "        sorted_points = sorted( unsorted_points, reverse=True )\n",
    "                \n",
    "        for i,position in enumerate(sorted_points):\n",
    "            \n",
    "            # Update positions\n",
    "            \n",
    "            for (k,v) in self._results.items():\n",
    "                if position == v[0]:\n",
    "                    self._results[k][1] = i\n",
    "            \n",
    "    def get_tournament_positions(self):\n",
    "        pass\n",
    "    \n",
    "    def get_tournament_results(self):\n",
    "        pass\n",
    "    "
   ]
  },
  {
   "cell_type": "code",
   "execution_count": 369,
   "metadata": {
    "collapsed": false
   },
   "outputs": [],
   "source": [
    "equivalence_tournament = EquivalenceTournament()\n",
    "equivalence_tournament.add_test_suite(\"./benchmarks/tests.csv\")\n",
    "equivalence_tournament.load_players_from_file(\"./benchmarks/players.csv\")"
   ]
  },
  {
   "cell_type": "code",
   "execution_count": 370,
   "metadata": {
    "collapsed": false
   },
   "outputs": [
    {
     "data": {
      "text/plain": [
       "{'aws_m1large_variable': <__main__.ComputeResourceTestResults at 0x7f20a8f80c88>,\n",
       " 'aws_m4large_magnetic': <__main__.ComputeResourceTestResults at 0x7f20a7c8b128>,\n",
       " 'aws_m4large_sdd': <__main__.ComputeResourceTestResults at 0x7f20a7c8b2e8>,\n",
       " 'aws_m4xlarge_variable': <__main__.ComputeResourceTestResults at 0x7f20a865c898>,\n",
       " 'aws_t2medium_magnetic': <__main__.ComputeResourceTestResults at 0x7f20a7c8b668>,\n",
       " 'aws_t2medium_variable': <__main__.ComputeResourceTestResults at 0x7f20a7c8b550>,\n",
       " 'aws_t2small_magnetic': <__main__.ComputeResourceTestResults at 0x7f20a7c8b320>,\n",
       " 'cecad_2xlarge_gp': <__main__.ComputeResourceTestResults at 0x7f20a7c8b390>,\n",
       " 'cecad_2xlarge_hpc': <__main__.ComputeResourceTestResults at 0x7f20a7c8b7f0>,\n",
       " 'cecad_3xlarge_gp': <__main__.ComputeResourceTestResults at 0x7f20a7c8b470>,\n",
       " 'cecad_3xlarge_hpc': <__main__.ComputeResourceTestResults at 0x7f20a7c8bb70>,\n",
       " 'cecad_4xlarge_hpc': <__main__.ComputeResourceTestResults at 0x7f20a7c8bc88>,\n",
       " 'cecad_5xlarge_hpc': <__main__.ComputeResourceTestResults at 0x7f20a7c8be10>,\n",
       " 'cecad_6xlarge_hpc': <__main__.ComputeResourceTestResults at 0x7f20a7c8beb8>,\n",
       " 'cecad_7xlarge_hpc': <__main__.ComputeResourceTestResults at 0x7f20a7c8bfd0>,\n",
       " 'cecad_8xlarge_hpc': <__main__.ComputeResourceTestResults at 0x7f20a7c8be48>,\n",
       " 'cecad_dl1606g': <__main__.ComputeResourceTestResults at 0x7f20a7c8b080>,\n",
       " 'cecad_large_gp': <__main__.ComputeResourceTestResults at 0x7f20a7c4b358>,\n",
       " 'cecad_large_hpc': <__main__.ComputeResourceTestResults at 0x7f20a7c4b1d0>,\n",
       " 'cecad_large_nova': <__main__.ComputeResourceTestResults at 0x7f20a7c4b198>,\n",
       " 'cecad_medium_gp': <__main__.ComputeResourceTestResults at 0x7f20a7c4b6a0>,\n",
       " 'cecad_medium_hpc': <__main__.ComputeResourceTestResults at 0x7f20a7c4b7b8>,\n",
       " 'cecad_medium_nova': <__main__.ComputeResourceTestResults at 0x7f20a7c4b5c0>,\n",
       " 'cecad_r610': <__main__.ComputeResourceTestResults at 0x7f20a7c4b940>,\n",
       " 'cecad_r900': <__main__.ComputeResourceTestResults at 0x7f20a7c4b898>,\n",
       " 'cecad_small_gp': <__main__.ComputeResourceTestResults at 0x7f20a7c4bb38>,\n",
       " 'cecad_small_hpc': <__main__.ComputeResourceTestResults at 0x7f20a7c4b4e0>,\n",
       " 'cecad_small_nova': <__main__.ComputeResourceTestResults at 0x7f20a7c4bcf8>,\n",
       " 'cecad_small_test': <__main__.ComputeResourceTestResults at 0x7f20a7c4bac8>,\n",
       " 'cecad_xlarge_gp': <__main__.ComputeResourceTestResults at 0x7f20a7c4bdd8>,\n",
       " 'cecad_xlarge_hpc': <__main__.ComputeResourceTestResults at 0x7f20a7c4bf98>,\n",
       " 'cecad_xsmall_gp': <__main__.ComputeResourceTestResults at 0x7f20a7c4beb8>,\n",
       " 'cecad_xsmall_hpc': <__main__.ComputeResourceTestResults at 0x7f20a7c4b2b0>,\n",
       " 'cecad_xsmall_nova': <__main__.ComputeResourceTestResults at 0x7f20a7c2a320>}"
      ]
     },
     "execution_count": 370,
     "metadata": {},
     "output_type": "execute_result"
    }
   ],
   "source": [
    "equivalence_tournament._players"
   ]
  },
  {
   "cell_type": "code",
   "execution_count": 371,
   "metadata": {
    "collapsed": false
   },
   "outputs": [
    {
     "data": {
      "text/plain": [
       "34"
      ]
     },
     "execution_count": 371,
     "metadata": {},
     "output_type": "execute_result"
    }
   ],
   "source": [
    "len( equivalence_tournament._players )"
   ]
  },
  {
   "cell_type": "code",
   "execution_count": 372,
   "metadata": {
    "collapsed": false
   },
   "outputs": [
    {
     "data": {
      "text/plain": [
       "110"
      ]
     },
     "execution_count": 372,
     "metadata": {},
     "output_type": "execute_result"
    }
   ],
   "source": [
    "len( equivalence_tournament._competitions )"
   ]
  },
  {
   "cell_type": "code",
   "execution_count": 373,
   "metadata": {
    "collapsed": true
   },
   "outputs": [],
   "source": [
    "equivalence_tournament.play_complete_tournament()"
   ]
  },
  {
   "cell_type": "code",
   "execution_count": 374,
   "metadata": {
    "collapsed": false
   },
   "outputs": [
    {
     "data": {
      "text/plain": [
       "{'7-Zip Compression - Compress Speed Test': <__main__.ComputeResourceTestTournament at 0x7f20a76d9fd0>,\n",
       " 'AIO-Stress - Random Write': <__main__.ComputeResourceTestTournament at 0x7f20a76d9f60>,\n",
       " 'Apache Benchmark - Static Web Page Serving': <__main__.ComputeResourceTestTournament at 0x7f20a8f80a58>,\n",
       " 'C-Ray - Total Time': <__main__.ComputeResourceTestTournament at 0x7f20a8f807f0>,\n",
       " 'CacheBench - Read Cache': <__main__.ComputeResourceTestTournament at 0x7f20a7c2aa20>,\n",
       " 'CacheBench - Write Cache': <__main__.ComputeResourceTestTournament at 0x7f20a79a5160>,\n",
       " 'Crafty - Elapsed Time': <__main__.ComputeResourceTestTournament at 0x7f20a7c2a5c0>,\n",
       " 'Dbench - 1 Clients': <__main__.ComputeResourceTestTournament at 0x7f20a7c2a860>,\n",
       " 'Dbench - 12 Clients': <__main__.ComputeResourceTestTournament at 0x7f20a7c2aef0>,\n",
       " 'Dbench - 128 Clients': <__main__.ComputeResourceTestTournament at 0x7f20a7c2a208>,\n",
       " 'Dbench - 48 Clients': <__main__.ComputeResourceTestTournament at 0x7f20a79a5b00>,\n",
       " 'FFmpeg - H.264 HD To NTSC DV': <__main__.ComputeResourceTestTournament at 0x7f20a76d9048>,\n",
       " 'FLAC Audio Encoding - WAV To FLAC': <__main__.ComputeResourceTestTournament at 0x7f20a76d9a90>,\n",
       " 'FS-Mark - 1000 Files, 1MB Size': <__main__.ComputeResourceTestTournament at 0x7f20a79a58d0>,\n",
       " 'Gcrypt Library - CAMELLIA256-ECB Cipher': <__main__.ComputeResourceTestTournament at 0x7f20a76d9be0>,\n",
       " 'GraphicsMagick - HWB Color Space': <__main__.ComputeResourceTestTournament at 0x7f20a76d92b0>,\n",
       " 'GraphicsMagick - Local Adaptive Thresholding': <__main__.ComputeResourceTestTournament at 0x7f20a76d95c0>,\n",
       " 'GraphicsMagick - Resizing': <__main__.ComputeResourceTestTournament at 0x7f20a7c2a518>,\n",
       " 'GraphicsMagick - Sharpen': <__main__.ComputeResourceTestTournament at 0x7f20a76d9b00>,\n",
       " 'Himeno Benchmark - Poisson Pressure Solver': <__main__.ComputeResourceTestTournament at 0x7f20a76d9a20>,\n",
       " 'John The Ripper - Blowfish': <__main__.ComputeResourceTestTournament at 0x7f20a76d9860>,\n",
       " 'John The Ripper - Traditional DES': <__main__.ComputeResourceTestTournament at 0x7f20a76d9ef0>,\n",
       " 'LAME MP3 Encoding - WAV To MP3': <__main__.ComputeResourceTestTournament at 0x7f20a76d9630>,\n",
       " 'NAS Parallel Benchmarks - Test / Class: LU.A': <__main__.ComputeResourceTestTournament at 0x7f20a79a5710>,\n",
       " 'OpenSSL - RSA 4096-bit Performance': <__main__.ComputeResourceTestTournament at 0x7f20a79a5048>,\n",
       " 'Parallel BZIP2 Compression - 256MB File Compression': <__main__.ComputeResourceTestTournament at 0x7f20a76d9d30>,\n",
       " 'PostMark - Disk Transaction Performance': <__main__.ComputeResourceTestTournament at 0x7f20a76d9e80>,\n",
       " 'RAMspeed SMP - Floating-Point Add': <__main__.ComputeResourceTestTournament at 0x7f20a76d9550>,\n",
       " 'RAMspeed SMP - Integer Add': <__main__.ComputeResourceTestTournament at 0x7f20a76d9320>,\n",
       " 'RAMspeed SMP - Integer Copy': <__main__.ComputeResourceTestTournament at 0x7f20a79a59b0>,\n",
       " 'RAMspeed SMP - Integer Scale': <__main__.ComputeResourceTestTournament at 0x7f20a7c2aa90>,\n",
       " 'SQLite - Timed SQLite Insertions': <__main__.ComputeResourceTestTournament at 0x7f20a79a5da0>,\n",
       " 'Smallpt - Global Illumination Renderer; 100 Samples': <__main__.ComputeResourceTestTournament at 0x7f20a79a5a90>,\n",
       " 'Stream - Add': <__main__.ComputeResourceTestTournament at 0x7f20a79a5be0>,\n",
       " 'Stream - Copy': <__main__.ComputeResourceTestTournament at 0x7f20a79a5e10>,\n",
       " 'Stream - Scale': <__main__.ComputeResourceTestTournament at 0x7f20a7c2a710>,\n",
       " 'Stream - Type: Add': <__main__.ComputeResourceTestTournament at 0x7f20a740f048>,\n",
       " 'Stream - Type: Copy': <__main__.ComputeResourceTestTournament at 0x7f20a76d9400>,\n",
       " 'Stream - Type: Scale': <__main__.ComputeResourceTestTournament at 0x7f20a79a5f60>,\n",
       " 'Stream - Type: Triad': <__main__.ComputeResourceTestTournament at 0x7f20a79a55c0>,\n",
       " 'TSCP - AI Chess Performance': <__main__.ComputeResourceTestTournament at 0x7f20a8f80b70>,\n",
       " 'Tachyon - Total Time': <__main__.ComputeResourceTestTournament at 0x7f20a76d9cc0>,\n",
       " 'Threaded I/O Tester - 64MB Random Read - 32 Threads': <__main__.ComputeResourceTestTournament at 0x7f20a7c2afd0>,\n",
       " 'Threaded I/O Tester - 64MB Random Write - 32 Threads': <__main__.ComputeResourceTestTournament at 0x7f20a79a5400>,\n",
       " 'Threaded I/O Tester - Test: Random Read - Size Per Thread: 128MB - Thread Count: 16': <__main__.ComputeResourceTestTournament at 0x7f20a79a5ef0>,\n",
       " 'Threaded I/O Tester - Test: Random Read - Size Per Thread: 128MB - Thread Count: 32': <__main__.ComputeResourceTestTournament at 0x7f20a740f320>,\n",
       " 'Threaded I/O Tester - Test: Random Read - Size Per Thread: 128MB - Thread Count: 4': <__main__.ComputeResourceTestTournament at 0x7f20a79a5860>,\n",
       " 'Threaded I/O Tester - Test: Random Read - Size Per Thread: 128MB - Thread Count: 8': <__main__.ComputeResourceTestTournament at 0x7f20a79a5b70>,\n",
       " 'Threaded I/O Tester - Test: Random Read - Size Per Thread: 256MB - Thread Count: 16': <__main__.ComputeResourceTestTournament at 0x7f20a79a54e0>,\n",
       " 'Threaded I/O Tester - Test: Random Read - Size Per Thread: 256MB - Thread Count: 32': <__main__.ComputeResourceTestTournament at 0x7f20a76d96a0>,\n",
       " 'Threaded I/O Tester - Test: Random Read - Size Per Thread: 256MB - Thread Count: 4': <__main__.ComputeResourceTestTournament at 0x7f20a79a5d30>,\n",
       " 'Threaded I/O Tester - Test: Random Read - Size Per Thread: 256MB - Thread Count: 8': <__main__.ComputeResourceTestTournament at 0x7f20a7c2ab00>,\n",
       " 'Threaded I/O Tester - Test: Random Read - Size Per Thread: 32MB - Thread Count: 16': <__main__.ComputeResourceTestTournament at 0x7f20a76d97f0>,\n",
       " 'Threaded I/O Tester - Test: Random Read - Size Per Thread: 32MB - Thread Count: 32': <__main__.ComputeResourceTestTournament at 0x7f20a79a50f0>,\n",
       " 'Threaded I/O Tester - Test: Random Read - Size Per Thread: 32MB - Thread Count: 4': <__main__.ComputeResourceTestTournament at 0x7f20a79a5fd0>,\n",
       " 'Threaded I/O Tester - Test: Random Read - Size Per Thread: 32MB - Thread Count: 8': <__main__.ComputeResourceTestTournament at 0x7f20a76d91d0>,\n",
       " 'Threaded I/O Tester - Test: Random Read - Size Per Thread: 64MB - Thread Count: 16': <__main__.ComputeResourceTestTournament at 0x7f20a79a5550>,\n",
       " 'Threaded I/O Tester - Test: Random Read - Size Per Thread: 64MB - Thread Count: 32': <__main__.ComputeResourceTestTournament at 0x7f20a7c2ac50>,\n",
       " 'Threaded I/O Tester - Test: Random Read - Size Per Thread: 64MB - Thread Count: 4': <__main__.ComputeResourceTestTournament at 0x7f20a79a57f0>,\n",
       " 'Threaded I/O Tester - Test: Random Read - Size Per Thread: 64MB - Thread Count: 8': <__main__.ComputeResourceTestTournament at 0x7f20a7c2ae80>,\n",
       " 'Threaded I/O Tester - Test: Random Write - Size Per Thread: 128MB - Thread Count: 16': <__main__.ComputeResourceTestTournament at 0x7f20a76d9710>,\n",
       " 'Threaded I/O Tester - Test: Random Write - Size Per Thread: 128MB - Thread Count: 32': <__main__.ComputeResourceTestTournament at 0x7f20a76d9da0>,\n",
       " 'Threaded I/O Tester - Test: Random Write - Size Per Thread: 128MB - Thread Count: 4': <__main__.ComputeResourceTestTournament at 0x7f20a7c2af60>,\n",
       " 'Threaded I/O Tester - Test: Random Write - Size Per Thread: 128MB - Thread Count: 8': <__main__.ComputeResourceTestTournament at 0x7f20a76d9c50>,\n",
       " 'Threaded I/O Tester - Test: Random Write - Size Per Thread: 256MB - Thread Count: 16': <__main__.ComputeResourceTestTournament at 0x7f20a79a5c50>,\n",
       " 'Threaded I/O Tester - Test: Random Write - Size Per Thread: 256MB - Thread Count: 32': <__main__.ComputeResourceTestTournament at 0x7f20b0edd7f0>,\n",
       " 'Threaded I/O Tester - Test: Random Write - Size Per Thread: 256MB - Thread Count: 4': <__main__.ComputeResourceTestTournament at 0x7f20a79a5390>,\n",
       " 'Threaded I/O Tester - Test: Random Write - Size Per Thread: 256MB - Thread Count: 8': <__main__.ComputeResourceTestTournament at 0x7f20a7c2ae10>,\n",
       " 'Threaded I/O Tester - Test: Random Write - Size Per Thread: 32MB - Thread Count: 16': <__main__.ComputeResourceTestTournament at 0x7f20a79a5e80>,\n",
       " 'Threaded I/O Tester - Test: Random Write - Size Per Thread: 32MB - Thread Count: 32': <__main__.ComputeResourceTestTournament at 0x7f20a79a52b0>,\n",
       " 'Threaded I/O Tester - Test: Random Write - Size Per Thread: 32MB - Thread Count: 4': <__main__.ComputeResourceTestTournament at 0x7f20a76d9e10>,\n",
       " 'Threaded I/O Tester - Test: Random Write - Size Per Thread: 32MB - Thread Count: 8': <__main__.ComputeResourceTestTournament at 0x7f20a79a51d0>,\n",
       " 'Threaded I/O Tester - Test: Random Write - Size Per Thread: 64MB - Thread Count: 16': <__main__.ComputeResourceTestTournament at 0x7f20a7c2ab70>,\n",
       " 'Threaded I/O Tester - Test: Random Write - Size Per Thread: 64MB - Thread Count: 32': <__main__.ComputeResourceTestTournament at 0x7f20a79a56a0>,\n",
       " 'Threaded I/O Tester - Test: Random Write - Size Per Thread: 64MB - Thread Count: 4': <__main__.ComputeResourceTestTournament at 0x7f20a740f0f0>,\n",
       " 'Threaded I/O Tester - Test: Random Write - Size Per Thread: 64MB - Thread Count: 8': <__main__.ComputeResourceTestTournament at 0x7f20a7c2a8d0>,\n",
       " 'Threaded I/O Tester - Test: Read - Size Per Thread: 128MB - Thread Count: 16': <__main__.ComputeResourceTestTournament at 0x7f20a7c2a668>,\n",
       " 'Threaded I/O Tester - Test: Read - Size Per Thread: 128MB - Thread Count: 32': <__main__.ComputeResourceTestTournament at 0x7f20a76d9470>,\n",
       " 'Threaded I/O Tester - Test: Read - Size Per Thread: 128MB - Thread Count: 4': <__main__.ComputeResourceTestTournament at 0x7f20a740f2b0>,\n",
       " 'Threaded I/O Tester - Test: Read - Size Per Thread: 128MB - Thread Count: 8': <__main__.ComputeResourceTestTournament at 0x7f20a76d94e0>,\n",
       " 'Threaded I/O Tester - Test: Read - Size Per Thread: 256MB - Thread Count: 16': <__main__.ComputeResourceTestTournament at 0x7f20a7c2ada0>,\n",
       " 'Threaded I/O Tester - Test: Read - Size Per Thread: 256MB - Thread Count: 32': <__main__.ComputeResourceTestTournament at 0x7f20a740f240>,\n",
       " 'Threaded I/O Tester - Test: Read - Size Per Thread: 256MB - Thread Count: 4': <__main__.ComputeResourceTestTournament at 0x7f20a79a5630>,\n",
       " 'Threaded I/O Tester - Test: Read - Size Per Thread: 256MB - Thread Count: 8': <__main__.ComputeResourceTestTournament at 0x7f20a7c2a7f0>,\n",
       " 'Threaded I/O Tester - Test: Read - Size Per Thread: 32MB - Thread Count: 16': <__main__.ComputeResourceTestTournament at 0x7f20a76d9940>,\n",
       " 'Threaded I/O Tester - Test: Read - Size Per Thread: 32MB - Thread Count: 32': <__main__.ComputeResourceTestTournament at 0x7f20a740f160>,\n",
       " 'Threaded I/O Tester - Test: Read - Size Per Thread: 32MB - Thread Count: 4': <__main__.ComputeResourceTestTournament at 0x7f20a76d99b0>,\n",
       " 'Threaded I/O Tester - Test: Read - Size Per Thread: 32MB - Thread Count: 8': <__main__.ComputeResourceTestTournament at 0x7f20a7c2ad30>,\n",
       " 'Threaded I/O Tester - Test: Read - Size Per Thread: 64MB - Thread Count: 16': <__main__.ComputeResourceTestTournament at 0x7f20a79a5320>,\n",
       " 'Threaded I/O Tester - Test: Read - Size Per Thread: 64MB - Thread Count: 32': <__main__.ComputeResourceTestTournament at 0x7f20a7c2abe0>,\n",
       " 'Threaded I/O Tester - Test: Read - Size Per Thread: 64MB - Thread Count: 4': <__main__.ComputeResourceTestTournament at 0x7f20a740f1d0>,\n",
       " 'Threaded I/O Tester - Test: Read - Size Per Thread: 64MB - Thread Count: 8': <__main__.ComputeResourceTestTournament at 0x7f20a79a5240>,\n",
       " 'Threaded I/O Tester - Test: Write - Size Per Thread: 128MB - Thread Count: 16': <__main__.ComputeResourceTestTournament at 0x7f20a76d9160>,\n",
       " 'Threaded I/O Tester - Test: Write - Size Per Thread: 128MB - Thread Count: 32': <__main__.ComputeResourceTestTournament at 0x7f20a7c2a780>,\n",
       " 'Threaded I/O Tester - Test: Write - Size Per Thread: 128MB - Thread Count: 4': <__main__.ComputeResourceTestTournament at 0x7f20a79a5940>,\n",
       " 'Threaded I/O Tester - Test: Write - Size Per Thread: 128MB - Thread Count: 8': <__main__.ComputeResourceTestTournament at 0x7f20a76d9390>,\n",
       " 'Threaded I/O Tester - Test: Write - Size Per Thread: 256MB - Thread Count: 16': <__main__.ComputeResourceTestTournament at 0x7f20a76d9b70>,\n",
       " 'Threaded I/O Tester - Test: Write - Size Per Thread: 256MB - Thread Count: 32': <__main__.ComputeResourceTestTournament at 0x7f20a7c2acc0>,\n",
       " 'Threaded I/O Tester - Test: Write - Size Per Thread: 256MB - Thread Count: 4': <__main__.ComputeResourceTestTournament at 0x7f20a79a5780>,\n",
       " 'Threaded I/O Tester - Test: Write - Size Per Thread: 256MB - Thread Count: 8': <__main__.ComputeResourceTestTournament at 0x7f20a7c2a940>,\n",
       " 'Threaded I/O Tester - Test: Write - Size Per Thread: 32MB - Thread Count: 16': <__main__.ComputeResourceTestTournament at 0x7f20a76d9240>,\n",
       " 'Threaded I/O Tester - Test: Write - Size Per Thread: 32MB - Thread Count: 32': <__main__.ComputeResourceTestTournament at 0x7f20a7c2a3c8>,\n",
       " 'Threaded I/O Tester - Test: Write - Size Per Thread: 32MB - Thread Count: 4': <__main__.ComputeResourceTestTournament at 0x7f20a7c2a9b0>,\n",
       " 'Threaded I/O Tester - Test: Write - Size Per Thread: 32MB - Thread Count: 8': <__main__.ComputeResourceTestTournament at 0x7f20a79a5470>,\n",
       " 'Threaded I/O Tester - Test: Write - Size Per Thread: 64MB - Thread Count: 16': <__main__.ComputeResourceTestTournament at 0x7f20a76d9780>,\n",
       " 'Threaded I/O Tester - Test: Write - Size Per Thread: 64MB - Thread Count: 32': <__main__.ComputeResourceTestTournament at 0x7f20a7c2a470>,\n",
       " 'Threaded I/O Tester - Test: Write - Size Per Thread: 64MB - Thread Count: 4': <__main__.ComputeResourceTestTournament at 0x7f20a76d90f0>,\n",
       " 'Threaded I/O Tester - Test: Write - Size Per Thread: 64MB - Thread Count: 8': <__main__.ComputeResourceTestTournament at 0x7f20a76d98d0>,\n",
       " 'Timed MAFFT Alignment - Multiple Sequence Alignment': <__main__.ComputeResourceTestTournament at 0x7f20a79a5cc0>,\n",
       " 'x264 - H.264 Video Encoding': <__main__.ComputeResourceTestTournament at 0x7f20a79a5a20>}"
      ]
     },
     "execution_count": 374,
     "metadata": {},
     "output_type": "execute_result"
    }
   ],
   "source": [
    "equivalence_tournament._tournament"
   ]
  },
  {
   "cell_type": "code",
   "execution_count": 375,
   "metadata": {
    "collapsed": false
   },
   "outputs": [
    {
     "data": {
      "text/plain": [
       "{'aws_m1large_variable': [19, 8],\n",
       " 'aws_m4large_magnetic': [35, 7],\n",
       " 'aws_m4large_sdd': [35, 7],\n",
       " 'aws_m4xlarge_variable': [99, 0],\n",
       " 'aws_t2medium_magnetic': [35, 7],\n",
       " 'aws_t2medium_variable': [35, 7],\n",
       " 'aws_t2small_magnetic': [6, 9],\n",
       " 'cecad_2xlarge_gp': [72, 4],\n",
       " 'cecad_2xlarge_hpc': [82, 3],\n",
       " 'cecad_3xlarge_gp': [72, 4],\n",
       " 'cecad_3xlarge_hpc': [82, 3],\n",
       " 'cecad_4xlarge_hpc': [60, 5],\n",
       " 'cecad_5xlarge_hpc': [72, 4],\n",
       " 'cecad_6xlarge_hpc': [89, 2],\n",
       " 'cecad_7xlarge_hpc': [96, 1],\n",
       " 'cecad_8xlarge_hpc': [89, 2],\n",
       " 'cecad_dl1606g': [60, 5],\n",
       " 'cecad_large_gp': [50, 6],\n",
       " 'cecad_large_hpc': [50, 6],\n",
       " 'cecad_large_nova': [50, 6],\n",
       " 'cecad_medium_gp': [35, 7],\n",
       " 'cecad_medium_hpc': [19, 8],\n",
       " 'cecad_medium_nova': [35, 7],\n",
       " 'cecad_r610': [72, 4],\n",
       " 'cecad_r900': [89, 2],\n",
       " 'cecad_small_gp': [19, 8],\n",
       " 'cecad_small_hpc': [6, 9],\n",
       " 'cecad_small_nova': [0, 11],\n",
       " 'cecad_small_test': [6, 9],\n",
       " 'cecad_xlarge_gp': [60, 5],\n",
       " 'cecad_xlarge_hpc': [60, 5],\n",
       " 'cecad_xsmall_gp': [19, 8],\n",
       " 'cecad_xsmall_hpc': [6, 9],\n",
       " 'cecad_xsmall_nova': [19, 8]}"
      ]
     },
     "execution_count": 375,
     "metadata": {},
     "output_type": "execute_result"
    }
   ],
   "source": [
    "equivalence_tournament._tournament[\"7-Zip Compression - Compress Speed Test\"]._results"
   ]
  },
  {
   "cell_type": "code",
   "execution_count": 376,
   "metadata": {
    "collapsed": false
   },
   "outputs": [
    {
     "data": {
      "text/plain": [
       "{'aws_m1large_variable': [2988, 29],\n",
       " 'aws_m4large_magnetic': [7370, 4],\n",
       " 'aws_m4large_sdd': [8568, 1],\n",
       " 'aws_m4xlarge_variable': [8239, 2],\n",
       " 'aws_t2medium_magnetic': [6765, 7],\n",
       " 'aws_t2medium_variable': [2325, 31],\n",
       " 'aws_t2small_magnetic': [4339, 24],\n",
       " 'cecad_2xlarge_gp': [5736, 11],\n",
       " 'cecad_2xlarge_hpc': [5942, 9],\n",
       " 'cecad_3xlarge_gp': [5630, 14],\n",
       " 'cecad_3xlarge_hpc': [5614, 15],\n",
       " 'cecad_4xlarge_hpc': [4284, 25],\n",
       " 'cecad_5xlarge_hpc': [4703, 23],\n",
       " 'cecad_6xlarge_hpc': [4922, 20],\n",
       " 'cecad_7xlarge_hpc': [5706, 12],\n",
       " 'cecad_8xlarge_hpc': [5044, 19],\n",
       " 'cecad_dl1606g': [5782, 10],\n",
       " 'cecad_large_gp': [5346, 17],\n",
       " 'cecad_large_hpc': [4879, 21],\n",
       " 'cecad_large_nova': [7083, 5],\n",
       " 'cecad_medium_gp': [4725, 22],\n",
       " 'cecad_medium_hpc': [3093, 28],\n",
       " 'cecad_medium_nova': [6810, 6],\n",
       " 'cecad_r610': [8907, 0],\n",
       " 'cecad_r900': [7439, 3],\n",
       " 'cecad_small_gp': [3845, 26],\n",
       " 'cecad_small_hpc': [2544, 30],\n",
       " 'cecad_small_nova': [6382, 8],\n",
       " 'cecad_small_test': [1343, 33],\n",
       " 'cecad_xlarge_gp': [5676, 13],\n",
       " 'cecad_xlarge_hpc': [5099, 18],\n",
       " 'cecad_xsmall_gp': [3223, 27],\n",
       " 'cecad_xsmall_hpc': [2195, 32],\n",
       " 'cecad_xsmall_nova': [5524, 16]}"
      ]
     },
     "execution_count": 376,
     "metadata": {},
     "output_type": "execute_result"
    }
   ],
   "source": [
    "equivalence_tournament.calculate_tournament_results()\n",
    "equivalence_tournament._results"
   ]
  },
  {
   "cell_type": "code",
   "execution_count": null,
   "metadata": {
    "collapsed": true
   },
   "outputs": [],
   "source": []
  },
  {
   "cell_type": "code",
   "execution_count": null,
   "metadata": {
    "collapsed": true
   },
   "outputs": [],
   "source": []
  }
 ],
 "metadata": {
  "kernelspec": {
   "display_name": "Python 3",
   "language": "python",
   "name": "python3"
  },
  "language_info": {
   "codemirror_mode": {
    "name": "ipython",
    "version": 3
   },
   "file_extension": ".py",
   "mimetype": "text/x-python",
   "name": "python",
   "nbconvert_exporter": "python",
   "pygments_lexer": "ipython3",
   "version": "3.5.1+"
  }
 },
 "nbformat": 4,
 "nbformat_minor": 0
}
